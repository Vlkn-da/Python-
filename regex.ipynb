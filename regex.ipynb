{
 "cells": [
  {
   "cell_type": "code",
   "execution_count": 8,
   "id": "4b9d2e60",
   "metadata": {},
   "outputs": [],
   "source": [
    "# importing re and pandas libraries\n",
    "\n",
    "import re\n",
    "import pandas as pd"
   ]
  },
  {
   "cell_type": "markdown",
   "id": "3785ede2",
   "metadata": {},
   "source": [
    "## Question 1"
   ]
  },
  {
   "cell_type": "markdown",
   "id": "b92b4874",
   "metadata": {},
   "source": [
    "In the solution to the question 1, I will create a compile that would include all the words including \",\" and \".\" I will exclude all the digits. Then, I will use findall() function to get the asked result. "
   ]
  },
  {
   "cell_type": "code",
   "execution_count": 246,
   "id": "aa5bc82c",
   "metadata": {},
   "outputs": [
    {
     "data": {
      "text/plain": [
       "0                      Khan, Ghengis\n",
       "1               Fitzgerald, F. Scott\n",
       "2           Rev. Adam Clayton Powell\n",
       "3                       Loretta Lynn\n",
       "4                        Case,Justin\n",
       "5                  Dr. Julius Erving\n",
       "6    Constance Prudence Boringsworth\n",
       "dtype: object"
      ]
     },
     "execution_count": 246,
     "metadata": {},
     "output_type": "execute_result"
    }
   ],
   "source": [
    "# saving the given text into a variable\n",
    "txt = \"555-1239Khan, Ghengis(636) 555-0113Fitzgerald, F. Scott555 -6542Rev. Adam Clayton Powell555 8904Loretta Lynn636-555-3226Case,Justin5553642Dr. Julius Erving555-401-2232Constance Prudence Boringsworth\"\n",
    "\n",
    "# creating the compile and saving it into a variable\n",
    "pattern = re.compile(r\"[a-z,\\.\\s]+[a-z]+\", flags=re.IGNORECASE) # ignorecase gives all letters without being upper or lowercase\n",
    "\n",
    "# using findall() to get the pattern in the text\n",
    "code = pattern.findall(txt)\n",
    "\n",
    "# checking the code\n",
    "code\n",
    "\n",
    "# saving the code in a vector\n",
    "names = pd.Series(code) \n",
    "names"
   ]
  },
  {
   "cell_type": "markdown",
   "id": "53e7098d",
   "metadata": {},
   "source": [
    "## Question 2"
   ]
  },
  {
   "cell_type": "markdown",
   "id": "5a056c38",
   "metadata": {},
   "source": [
    "### 2-a \n",
    "\n",
    "\n",
    "I will solve this question in two steps. First, I will remove commas from the names vector using split() method. Then, I will create a new list to append the new version of the names. Then I will use for loop the reverse the order of the names and append new names into the list. Second, I will use another for loop to remove commas between names and surnames using join() method and append the final version of the names into another list. Finally, I will create a vector from that list.I was inspired from the link below in the solution, especially for the join method.\n",
    "\n",
    "https://stackoverflow.com/questions/51644998/extracting-name-as-first-name-last-name-in-python"
   ]
  },
  {
   "cell_type": "code",
   "execution_count": 247,
   "id": "be9384d2",
   "metadata": {},
   "outputs": [
    {
     "data": {
      "text/plain": [
       "[[' Ghengis', 'Khan'],\n",
       " [' F. Scott', 'Fitzgerald'],\n",
       " ['Rev. Adam Clayton Powell'],\n",
       " ['Loretta Lynn'],\n",
       " ['Justin', 'Case'],\n",
       " ['Dr. Julius Erving'],\n",
       " ['Constance Prudence Boringsworth']]"
      ]
     },
     "execution_count": 247,
     "metadata": {},
     "output_type": "execute_result"
    }
   ],
   "source": [
    "# first step\n",
    "# splitting the names\n",
    "names_split = names.str.split(\",\")\n",
    "\n",
    "#creating a new list to append\n",
    "names_update = []\n",
    "\n",
    "# looping over the surname-name pairs\n",
    "for name in names_split:\n",
    "    name = name[::-1] # this reverse the order\n",
    "    names_update.append(name)\n",
    "\n",
    "    \n",
    "#checking if the code works\n",
    "names_update    "
   ]
  },
  {
   "cell_type": "code",
   "execution_count": 248,
   "id": "26b2919d",
   "metadata": {},
   "outputs": [
    {
     "data": {
      "text/plain": [
       "0                       Ghengis Khan\n",
       "1                F. Scott Fitzgerald\n",
       "2           Rev. Adam Clayton Powell\n",
       "3                       Loretta Lynn\n",
       "4                        Justin Case\n",
       "5                  Dr. Julius Erving\n",
       "6    Constance Prudence Boringsworth\n",
       "dtype: object"
      ]
     },
     "execution_count": 248,
     "metadata": {},
     "output_type": "execute_result"
    }
   ],
   "source": [
    "# second step\n",
    "\n",
    "# creating another list\n",
    "names_final = []\n",
    "\n",
    "# looping over the reversed names\n",
    "for name in names_update:\n",
    "    x = \" \".join(name) # remove commas \n",
    "    names_final.append(x)\n",
    "\n",
    "# turning the new list into a vector\n",
    "names_final = pd.Series(names_final)\n",
    "\n",
    "# checking \n",
    "names_final"
   ]
  },
  {
   "cell_type": "markdown",
   "id": "2a20e347",
   "metadata": {},
   "source": [
    "### 2-b\n",
    "\n",
    "I will first create a regex compile for pattern finding, then apply it to the final name list using str match() methods."
   ]
  },
  {
   "cell_type": "code",
   "execution_count": 250,
   "id": "be5ba55b",
   "metadata": {},
   "outputs": [
    {
     "data": {
      "text/plain": [
       "0    False\n",
       "1    False\n",
       "2     True\n",
       "3    False\n",
       "4    False\n",
       "5     True\n",
       "6    False\n",
       "dtype: bool"
      ]
     },
     "execution_count": 250,
     "metadata": {},
     "output_type": "execute_result"
    }
   ],
   "source": [
    "# creating a regex compile and saving it to a variable\n",
    "title_compile = re.compile(r\"[a-z]{1,3}\\.\", flags=re.IGNORECASE)\n",
    "\n",
    "# using str and match() methods\n",
    "names_final.str.match(title_compile)"
   ]
  },
  {
   "cell_type": "markdown",
   "id": "0675bf49",
   "metadata": {},
   "source": [
    "### 2-c\n",
    "\n",
    "I could hardly create a pattern to get what is wanted in this question. For this reason, I used \"either, or (|)\" symbol to create three different compile patterns. Then I applied str. and match() method to final names list."
   ]
  },
  {
   "cell_type": "code",
   "execution_count": 244,
   "id": "51342f07",
   "metadata": {},
   "outputs": [
    {
     "data": {
      "text/plain": [
       "0    False\n",
       "1     True\n",
       "2     True\n",
       "3    False\n",
       "4    False\n",
       "5    False\n",
       "6     True\n",
       "dtype: bool"
      ]
     },
     "execution_count": 244,
     "metadata": {},
     "output_type": "execute_result"
    }
   ],
   "source": [
    "# creating regex patterns\n",
    "mid_name = re.compile(r\"\\w+\\s\\w+\\s\\w+|\\w{3}\\.\\s\\w+|\\s\\w.\\s\\w+\\s\\w+\")\n",
    "\n",
    "# appyling the patterns to names vector using match() method\n",
    "names_final.str.match(mid_name)"
   ]
  },
  {
   "cell_type": "markdown",
   "id": "e67b4c78",
   "metadata": {},
   "source": [
    "## Question 3"
   ]
  },
  {
   "cell_type": "markdown",
   "id": "bb3c0106",
   "metadata": {},
   "source": [
    "To extract first \"title\" from the given statement, \"<.+>\" formulate does not work because \".+\" marks at the end also covers all the words and marks in a given text. Rather, it can be modified with \"<[A-Za-z]+?>\"; it now covers all the letters lower or uppercase and adding \"?\" into code corresponds zero or one occurence of the corresponding value. I will also use match() and group() methods, since it gives the first occurence if the corresponding value. I will first try to extract using the given formulate, then fix it using my own code."
   ]
  },
  {
   "cell_type": "code",
   "execution_count": 99,
   "id": "e804be04",
   "metadata": {},
   "outputs": [
    {
     "data": {
      "text/plain": [
       "'<title>+++BREAKING NEWS+++<title>'"
      ]
     },
     "execution_count": 99,
     "metadata": {},
     "output_type": "execute_result"
    }
   ],
   "source": [
    "# saving the text into a varible\n",
    "text3 = \"<title>+++BREAKING NEWS+++<title>\"\n",
    "\n",
    "# creating the compile\n",
    "title_false = re.compile(r\"<.+>\")\n",
    "\n",
    "# getting the asked statement using match() method. it gives all in the text\n",
    "prev3 = title_false.match(text3)\n",
    "\n",
    "# using group() method\n",
    "prev3.group()"
   ]
  },
  {
   "cell_type": "code",
   "execution_count": 251,
   "id": "e682982f",
   "metadata": {},
   "outputs": [
    {
     "data": {
      "text/plain": [
       "'<title>'"
      ]
     },
     "execution_count": 251,
     "metadata": {},
     "output_type": "execute_result"
    }
   ],
   "source": [
    "# correcting the compile adding \"?\" after \".\"\n",
    "title_correct = re.compile(r\"<[a-z]+?>\", flags=re.IGNORECASE)\n",
    "\n",
    "# extracting the asked statement using the new compile\n",
    "new3 = title_correct.match(text3)\n",
    "\n",
    "# group() method to have the asked statement\n",
    "new3.group()"
   ]
  },
  {
   "cell_type": "markdown",
   "id": "76289c1c",
   "metadata": {},
   "source": [
    "## Question 4"
   ]
  },
  {
   "cell_type": "markdown",
   "id": "ec6feab0",
   "metadata": {},
   "source": [
    "The problem with the given solution is that it does not cover any number because of the wrong use \"^\" mark. It can be modified by bringing \"\\\" in the beginning of that mark. We also need to cover \"-\" by only adding \"\\-\". In that way, the code will give what we want to have. I will use findall(), match() and group() methods to have the string version og the goven equation."
   ]
  },
  {
   "cell_type": "code",
   "execution_count": 74,
   "id": "adb51c4f",
   "metadata": {},
   "outputs": [
    {
     "data": {
      "text/plain": [
       "['-', '^', '^', '-', '^']"
      ]
     },
     "execution_count": 74,
     "metadata": {},
     "output_type": "execute_result"
    }
   ],
   "source": [
    "# saving the text into a variable\n",
    "text4 = \"(5-3)^2=5^2-2*5*3+3^2\"\n",
    "\n",
    "# given compile\n",
    "binom = re.compile(r\"[^0-9=+*()]+\")\n",
    "\n",
    "# findall methods directly gives the result, which is not what we want to have\n",
    "binom.findall(text4)"
   ]
  },
  {
   "cell_type": "code",
   "execution_count": 203,
   "id": "4494ce29",
   "metadata": {},
   "outputs": [
    {
     "data": {
      "text/plain": [
       "'(5-3)^2=5^2-2*5*3+3^2'"
      ]
     },
     "execution_count": 203,
     "metadata": {},
     "output_type": "execute_result"
    }
   ],
   "source": [
    "# modifying the given compile by adding \"\\-\" at the beginning\n",
    "binom_correct = re.compile(r\"[\\-^0-9=+*()]+\")\n",
    "\n",
    "# appyling the new compile using match() method and saving it into a new variable\n",
    "new4 = binom_correct.match(text4)\n",
    "\n",
    "# having the string version using group() method\n",
    "new4.group()"
   ]
  }
 ],
 "metadata": {
  "kernelspec": {
   "display_name": "Python 3 (ipykernel)",
   "language": "python",
   "name": "python3"
  },
  "language_info": {
   "codemirror_mode": {
    "name": "ipython",
    "version": 3
   },
   "file_extension": ".py",
   "mimetype": "text/x-python",
   "name": "python",
   "nbconvert_exporter": "python",
   "pygments_lexer": "ipython3",
   "version": "3.9.12"
  }
 },
 "nbformat": 4,
 "nbformat_minor": 5
}
