{
 "cells": [
  {
   "cell_type": "markdown",
   "id": "b8239466",
   "metadata": {},
   "source": [
    "# Project #1 - Global Food Prices in Lebanon"
   ]
  },
  {
   "cell_type": "markdown",
   "id": "1196f3f0",
   "metadata": {},
   "source": [
    "## Introduction"
   ]
  },
  {
   "cell_type": "markdown",
   "id": "77e4cf74",
   "metadata": {},
   "source": [
    "Global food price fluctuations can cause famine and large population shifts. Price changes are increasingly critical to policymakers.\n",
    "\n",
    "For this analysis, we will focus on food prices data from **Lebanon**. We try to find some micro and macro trends in the food prices from 2016 through 2021. It is an arab country from the Middle East that is stroke by a violent inflation since 2020 due to decades of systemic corruption in public administrations, poor leadership and regional geopolitical instability.\n",
    "\n",
    "The data we have chosen to work with come from the **World Food Program** which is an NGO related to the UN that works for delivering food assistance in emergencies and working with communities to improve nutrition and build resilience.\n",
    "\n",
    "The steps we will follow in this analysis is the following:\n",
    "\n",
    "- **Step 1:** Importing the Python libraries and dataset that we will use in the analysis.\n",
    "\n",
    "- **Step 2:** Summarize the data to see what is included; cleaning and preparing data for exploratory data analysis\n",
    "\n",
    "- **Step 3:** Getting descriptive and summary statistics to see the distribution of the data; Visualizing data using Matplotlib and Seaborn libraries\n",
    "\n",
    "- **Step 4:** Inferences about food price trends in Lebanon based on the findings\n",
    "\n",
    "- **Step 5:** Conclusion and summary of findings"
   ]
  },
  {
   "cell_type": "markdown",
   "id": "1ac3b273",
   "metadata": {},
   "source": [
    "#### Research Question:  What are the important trends on food prices across the different regions of Lebanon and what is the most impacted commodity in these last years ?"
   ]
  },
  {
   "cell_type": "markdown",
   "id": "8e373ff6",
   "metadata": {},
   "source": [
    "## Step 1: Importing the libraries and the dataset"
   ]
  },
  {
   "cell_type": "markdown",
   "id": "5e676fb2",
   "metadata": {},
   "source": [
    "We will use Python libraries for data analysis such as numpy and pandas: and for data visualization such as matplotlib and seaborn. The dataset will be imported from Github repository, since we had uploaded it there before."
   ]
  },
  {
   "cell_type": "markdown",
   "id": "37d24440",
   "metadata": {},
   "source": [
    "%matplotlib notebook"
   ]
  },
  {
   "cell_type": "code",
   "execution_count": 1,
   "id": "181baacd",
   "metadata": {},
   "outputs": [],
   "source": [
    "import numpy as np\n",
    "import pandas as pd\n",
    "import matplotlib.pyplot as plt\n",
    "import seaborn as sns"
   ]
  },
  {
   "cell_type": "code",
   "execution_count": 2,
   "id": "c3940f73",
   "metadata": {},
   "outputs": [],
   "source": [
    "filename = 'https://raw.githubusercontent.com/mkey2508/DAV-5400/main/wfpvam_foodprices.csv'\n",
    "lebanon = pd.read_csv(filename, sep=';')"
   ]
  },
  {
   "cell_type": "markdown",
   "id": "4f4b2f0d",
   "metadata": {},
   "source": [
    "## Step 2: Data Summary"
   ]
  },
  {
   "cell_type": "markdown",
   "id": "13a4d5c8",
   "metadata": {},
   "source": [
    "**The data set comes from the Global Food Prices database from the WFP: https://data.humdata.org/dataset/wfp-food-prices.**\n",
    "\n",
    "The file contains data for more than 100 countries but we decided to focus on only one for a more in-depth analysis of this specific use case. The reason for choosing Lebanon is that there has recently been a significant price movements for foods."
   ]
  },
  {
   "cell_type": "code",
   "execution_count": 3,
   "id": "1198f04c",
   "metadata": {},
   "outputs": [
    {
     "name": "stdout",
     "output_type": "stream",
     "text": [
      "<class 'pandas.core.frame.DataFrame'>\n",
      "RangeIndex: 31309 entries, 0 to 31308\n",
      "Data columns (total 18 columns):\n",
      " #   Column              Non-Null Count  Dtype  \n",
      "---  ------              --------------  -----  \n",
      " 0   adm0_id             31309 non-null  float64\n",
      " 1   adm0_name           31309 non-null  object \n",
      " 2   adm1_id             31309 non-null  int64  \n",
      " 3   adm1_name           0 non-null      float64\n",
      " 4   mkt_id              31309 non-null  int64  \n",
      " 5   mkt_name            31309 non-null  object \n",
      " 6   cm_id               31309 non-null  int64  \n",
      " 7   cm_name             31309 non-null  object \n",
      " 8   cur_id              31309 non-null  float64\n",
      " 9   cur_name            31309 non-null  object \n",
      " 10  pt_id               31309 non-null  int64  \n",
      " 11  pt_name             31309 non-null  object \n",
      " 12  um_id               31309 non-null  int64  \n",
      " 13  um_name             31309 non-null  object \n",
      " 14  mp_month            31309 non-null  int64  \n",
      " 15  mp_year             31309 non-null  int64  \n",
      " 16  mp_price            31309 non-null  float64\n",
      " 17  mp_commoditysource  0 non-null      float64\n",
      "dtypes: float64(5), int64(7), object(6)\n",
      "memory usage: 4.3+ MB\n"
     ]
    }
   ],
   "source": [
    "# having a general idea about the data\n",
    "\n",
    "lebanon.info() #We check all the data types of each column of the data set"
   ]
  },
  {
   "cell_type": "markdown",
   "id": "4abd457b",
   "metadata": {},
   "source": [
    "There are 31309 rows and 18 attributes in the dataset. There are sufficient categorical and numerical values for analysis."
   ]
  },
  {
   "cell_type": "code",
   "execution_count": 4,
   "id": "9c1074fd",
   "metadata": {},
   "outputs": [
    {
     "data": {
      "text/html": [
       "<div>\n",
       "<style scoped>\n",
       "    .dataframe tbody tr th:only-of-type {\n",
       "        vertical-align: middle;\n",
       "    }\n",
       "\n",
       "    .dataframe tbody tr th {\n",
       "        vertical-align: top;\n",
       "    }\n",
       "\n",
       "    .dataframe thead th {\n",
       "        text-align: right;\n",
       "    }\n",
       "</style>\n",
       "<table border=\"1\" class=\"dataframe\">\n",
       "  <thead>\n",
       "    <tr style=\"text-align: right;\">\n",
       "      <th></th>\n",
       "      <th>adm0_id</th>\n",
       "      <th>adm0_name</th>\n",
       "      <th>adm1_id</th>\n",
       "      <th>adm1_name</th>\n",
       "      <th>mkt_id</th>\n",
       "      <th>mkt_name</th>\n",
       "      <th>cm_id</th>\n",
       "      <th>cm_name</th>\n",
       "      <th>cur_id</th>\n",
       "      <th>cur_name</th>\n",
       "      <th>pt_id</th>\n",
       "      <th>pt_name</th>\n",
       "      <th>um_id</th>\n",
       "      <th>um_name</th>\n",
       "      <th>mp_month</th>\n",
       "      <th>mp_year</th>\n",
       "      <th>mp_price</th>\n",
       "      <th>mp_commoditysource</th>\n",
       "    </tr>\n",
       "  </thead>\n",
       "  <tbody>\n",
       "    <tr>\n",
       "      <th>0</th>\n",
       "      <td>141.0</td>\n",
       "      <td>Lebanon</td>\n",
       "      <td>1797</td>\n",
       "      <td>NaN</td>\n",
       "      <td>1687</td>\n",
       "      <td>Baalbeck</td>\n",
       "      <td>58</td>\n",
       "      <td>Wheat flour</td>\n",
       "      <td>0.0</td>\n",
       "      <td>LBP</td>\n",
       "      <td>15</td>\n",
       "      <td>Retail</td>\n",
       "      <td>5</td>\n",
       "      <td>KG</td>\n",
       "      <td>1</td>\n",
       "      <td>2016</td>\n",
       "      <td>838.1666</td>\n",
       "      <td>NaN</td>\n",
       "    </tr>\n",
       "    <tr>\n",
       "      <th>1</th>\n",
       "      <td>141.0</td>\n",
       "      <td>Lebanon</td>\n",
       "      <td>1797</td>\n",
       "      <td>NaN</td>\n",
       "      <td>1687</td>\n",
       "      <td>Baalbeck</td>\n",
       "      <td>58</td>\n",
       "      <td>Wheat flour</td>\n",
       "      <td>0.0</td>\n",
       "      <td>LBP</td>\n",
       "      <td>15</td>\n",
       "      <td>Retail</td>\n",
       "      <td>5</td>\n",
       "      <td>KG</td>\n",
       "      <td>2</td>\n",
       "      <td>2016</td>\n",
       "      <td>1018.7500</td>\n",
       "      <td>NaN</td>\n",
       "    </tr>\n",
       "    <tr>\n",
       "      <th>2</th>\n",
       "      <td>141.0</td>\n",
       "      <td>Lebanon</td>\n",
       "      <td>1797</td>\n",
       "      <td>NaN</td>\n",
       "      <td>1687</td>\n",
       "      <td>Baalbeck</td>\n",
       "      <td>58</td>\n",
       "      <td>Wheat flour</td>\n",
       "      <td>0.0</td>\n",
       "      <td>LBP</td>\n",
       "      <td>15</td>\n",
       "      <td>Retail</td>\n",
       "      <td>5</td>\n",
       "      <td>KG</td>\n",
       "      <td>3</td>\n",
       "      <td>2016</td>\n",
       "      <td>980.0000</td>\n",
       "      <td>NaN</td>\n",
       "    </tr>\n",
       "    <tr>\n",
       "      <th>3</th>\n",
       "      <td>141.0</td>\n",
       "      <td>Lebanon</td>\n",
       "      <td>1797</td>\n",
       "      <td>NaN</td>\n",
       "      <td>1687</td>\n",
       "      <td>Baalbeck</td>\n",
       "      <td>58</td>\n",
       "      <td>Wheat flour</td>\n",
       "      <td>0.0</td>\n",
       "      <td>LBP</td>\n",
       "      <td>15</td>\n",
       "      <td>Retail</td>\n",
       "      <td>5</td>\n",
       "      <td>KG</td>\n",
       "      <td>4</td>\n",
       "      <td>2016</td>\n",
       "      <td>961.0000</td>\n",
       "      <td>NaN</td>\n",
       "    </tr>\n",
       "    <tr>\n",
       "      <th>4</th>\n",
       "      <td>141.0</td>\n",
       "      <td>Lebanon</td>\n",
       "      <td>1797</td>\n",
       "      <td>NaN</td>\n",
       "      <td>1687</td>\n",
       "      <td>Baalbeck</td>\n",
       "      <td>58</td>\n",
       "      <td>Wheat flour</td>\n",
       "      <td>0.0</td>\n",
       "      <td>LBP</td>\n",
       "      <td>15</td>\n",
       "      <td>Retail</td>\n",
       "      <td>5</td>\n",
       "      <td>KG</td>\n",
       "      <td>5</td>\n",
       "      <td>2016</td>\n",
       "      <td>950.0000</td>\n",
       "      <td>NaN</td>\n",
       "    </tr>\n",
       "  </tbody>\n",
       "</table>\n",
       "</div>"
      ],
      "text/plain": [
       "   adm0_id adm0_name  adm1_id  adm1_name  mkt_id  mkt_name  cm_id  \\\n",
       "0    141.0   Lebanon     1797        NaN    1687  Baalbeck     58   \n",
       "1    141.0   Lebanon     1797        NaN    1687  Baalbeck     58   \n",
       "2    141.0   Lebanon     1797        NaN    1687  Baalbeck     58   \n",
       "3    141.0   Lebanon     1797        NaN    1687  Baalbeck     58   \n",
       "4    141.0   Lebanon     1797        NaN    1687  Baalbeck     58   \n",
       "\n",
       "       cm_name  cur_id cur_name  pt_id pt_name  um_id um_name  mp_month  \\\n",
       "0  Wheat flour     0.0      LBP     15  Retail      5      KG         1   \n",
       "1  Wheat flour     0.0      LBP     15  Retail      5      KG         2   \n",
       "2  Wheat flour     0.0      LBP     15  Retail      5      KG         3   \n",
       "3  Wheat flour     0.0      LBP     15  Retail      5      KG         4   \n",
       "4  Wheat flour     0.0      LBP     15  Retail      5      KG         5   \n",
       "\n",
       "   mp_year   mp_price  mp_commoditysource  \n",
       "0     2016   838.1666                 NaN  \n",
       "1     2016  1018.7500                 NaN  \n",
       "2     2016   980.0000                 NaN  \n",
       "3     2016   961.0000                 NaN  \n",
       "4     2016   950.0000                 NaN  "
      ]
     },
     "execution_count": 4,
     "metadata": {},
     "output_type": "execute_result"
    }
   ],
   "source": [
    "# first look into the data\n",
    "\n",
    "lebanon.head() #We look at the first 5 rows of the data set"
   ]
  },
  {
   "cell_type": "markdown",
   "id": "0b094721",
   "metadata": {},
   "source": [
    "The data set is made of many fields with both categorical data and numerical data. It contains price levels for different commodities in different regions of Lebanon recorded at different moments in time."
   ]
  },
  {
   "cell_type": "code",
   "execution_count": 5,
   "id": "b692fc7c",
   "metadata": {},
   "outputs": [
    {
     "data": {
      "text/plain": [
       "array([nan])"
      ]
     },
     "execution_count": 5,
     "metadata": {},
     "output_type": "execute_result"
    }
   ],
   "source": [
    "lebanon['adm1_name'].unique() #This column looked empty, we verify it before dropping it"
   ]
  },
  {
   "cell_type": "code",
   "execution_count": 6,
   "id": "2478db06",
   "metadata": {},
   "outputs": [],
   "source": [
    "lebanon = lebanon.drop(columns=['adm0_id', 'adm0_name','adm1_id', 'adm1_name', 'mkt_id','cm_id','cur_id','pt_id','um_id', 'mp_commoditysource', 'cur_name'])"
   ]
  },
  {
   "cell_type": "markdown",
   "id": "be172ee6",
   "metadata": {},
   "source": [
    "We dropped columns that will not be useful for the analysis:\n",
    "- IDs of columns\n",
    "- Empty column adm1_name\n",
    "- The country column because there will be only one for the analysis\n",
    "- The column for the currency because there will be only one, the Lebanese Pound (LBP)"
   ]
  },
  {
   "cell_type": "markdown",
   "id": "ef5c032b",
   "metadata": {},
   "source": [
    "After dropping some of the values that are not our interest for the analysis, we will now rename columns for a better readability of our data."
   ]
  },
  {
   "cell_type": "code",
   "execution_count": 7,
   "id": "d00e1868",
   "metadata": {},
   "outputs": [
    {
     "data": {
      "text/html": [
       "<div>\n",
       "<style scoped>\n",
       "    .dataframe tbody tr th:only-of-type {\n",
       "        vertical-align: middle;\n",
       "    }\n",
       "\n",
       "    .dataframe tbody tr th {\n",
       "        vertical-align: top;\n",
       "    }\n",
       "\n",
       "    .dataframe thead th {\n",
       "        text-align: right;\n",
       "    }\n",
       "</style>\n",
       "<table border=\"1\" class=\"dataframe\">\n",
       "  <thead>\n",
       "    <tr style=\"text-align: right;\">\n",
       "      <th></th>\n",
       "      <th>city</th>\n",
       "      <th>commodity</th>\n",
       "      <th>pt</th>\n",
       "      <th>quantity</th>\n",
       "      <th>month</th>\n",
       "      <th>year</th>\n",
       "      <th>price</th>\n",
       "    </tr>\n",
       "  </thead>\n",
       "  <tbody>\n",
       "    <tr>\n",
       "      <th>0</th>\n",
       "      <td>Baalbeck</td>\n",
       "      <td>Wheat flour</td>\n",
       "      <td>Retail</td>\n",
       "      <td>KG</td>\n",
       "      <td>1</td>\n",
       "      <td>2016</td>\n",
       "      <td>838.1666</td>\n",
       "    </tr>\n",
       "    <tr>\n",
       "      <th>1</th>\n",
       "      <td>Baalbeck</td>\n",
       "      <td>Wheat flour</td>\n",
       "      <td>Retail</td>\n",
       "      <td>KG</td>\n",
       "      <td>2</td>\n",
       "      <td>2016</td>\n",
       "      <td>1018.7500</td>\n",
       "    </tr>\n",
       "    <tr>\n",
       "      <th>2</th>\n",
       "      <td>Baalbeck</td>\n",
       "      <td>Wheat flour</td>\n",
       "      <td>Retail</td>\n",
       "      <td>KG</td>\n",
       "      <td>3</td>\n",
       "      <td>2016</td>\n",
       "      <td>980.0000</td>\n",
       "    </tr>\n",
       "    <tr>\n",
       "      <th>3</th>\n",
       "      <td>Baalbeck</td>\n",
       "      <td>Wheat flour</td>\n",
       "      <td>Retail</td>\n",
       "      <td>KG</td>\n",
       "      <td>4</td>\n",
       "      <td>2016</td>\n",
       "      <td>961.0000</td>\n",
       "    </tr>\n",
       "    <tr>\n",
       "      <th>4</th>\n",
       "      <td>Baalbeck</td>\n",
       "      <td>Wheat flour</td>\n",
       "      <td>Retail</td>\n",
       "      <td>KG</td>\n",
       "      <td>5</td>\n",
       "      <td>2016</td>\n",
       "      <td>950.0000</td>\n",
       "    </tr>\n",
       "    <tr>\n",
       "      <th>...</th>\n",
       "      <td>...</td>\n",
       "      <td>...</td>\n",
       "      <td>...</td>\n",
       "      <td>...</td>\n",
       "      <td>...</td>\n",
       "      <td>...</td>\n",
       "      <td>...</td>\n",
       "    </tr>\n",
       "    <tr>\n",
       "      <th>31304</th>\n",
       "      <td>Nabatiyeh</td>\n",
       "      <td>Fuel (petrol-gasoline, 95 octane)</td>\n",
       "      <td>Retail</td>\n",
       "      <td>20 L</td>\n",
       "      <td>1</td>\n",
       "      <td>2021</td>\n",
       "      <td>28600.0000</td>\n",
       "    </tr>\n",
       "    <tr>\n",
       "      <th>31305</th>\n",
       "      <td>Nabatiyeh</td>\n",
       "      <td>Fuel (petrol-gasoline, 95 octane)</td>\n",
       "      <td>Retail</td>\n",
       "      <td>20 L</td>\n",
       "      <td>2</td>\n",
       "      <td>2021</td>\n",
       "      <td>32200.0000</td>\n",
       "    </tr>\n",
       "    <tr>\n",
       "      <th>31306</th>\n",
       "      <td>Nabatiyeh</td>\n",
       "      <td>Fuel (petrol-gasoline, 95 octane)</td>\n",
       "      <td>Retail</td>\n",
       "      <td>20 L</td>\n",
       "      <td>3</td>\n",
       "      <td>2021</td>\n",
       "      <td>39700.0000</td>\n",
       "    </tr>\n",
       "    <tr>\n",
       "      <th>31307</th>\n",
       "      <td>Nabatiyeh</td>\n",
       "      <td>Fuel (petrol-gasoline, 95 octane)</td>\n",
       "      <td>Retail</td>\n",
       "      <td>20 L</td>\n",
       "      <td>4</td>\n",
       "      <td>2021</td>\n",
       "      <td>39800.0000</td>\n",
       "    </tr>\n",
       "    <tr>\n",
       "      <th>31308</th>\n",
       "      <td>Nabatiyeh</td>\n",
       "      <td>Fuel (petrol-gasoline, 95 octane)</td>\n",
       "      <td>Retail</td>\n",
       "      <td>20 L</td>\n",
       "      <td>5</td>\n",
       "      <td>2021</td>\n",
       "      <td>40900.0000</td>\n",
       "    </tr>\n",
       "  </tbody>\n",
       "</table>\n",
       "<p>31309 rows × 7 columns</p>\n",
       "</div>"
      ],
      "text/plain": [
       "            city                          commodity      pt quantity  month  \\\n",
       "0       Baalbeck                        Wheat flour  Retail       KG      1   \n",
       "1       Baalbeck                        Wheat flour  Retail       KG      2   \n",
       "2       Baalbeck                        Wheat flour  Retail       KG      3   \n",
       "3       Baalbeck                        Wheat flour  Retail       KG      4   \n",
       "4       Baalbeck                        Wheat flour  Retail       KG      5   \n",
       "...          ...                                ...     ...      ...    ...   \n",
       "31304  Nabatiyeh  Fuel (petrol-gasoline, 95 octane)  Retail     20 L      1   \n",
       "31305  Nabatiyeh  Fuel (petrol-gasoline, 95 octane)  Retail     20 L      2   \n",
       "31306  Nabatiyeh  Fuel (petrol-gasoline, 95 octane)  Retail     20 L      3   \n",
       "31307  Nabatiyeh  Fuel (petrol-gasoline, 95 octane)  Retail     20 L      4   \n",
       "31308  Nabatiyeh  Fuel (petrol-gasoline, 95 octane)  Retail     20 L      5   \n",
       "\n",
       "       year       price  \n",
       "0      2016    838.1666  \n",
       "1      2016   1018.7500  \n",
       "2      2016    980.0000  \n",
       "3      2016    961.0000  \n",
       "4      2016    950.0000  \n",
       "...     ...         ...  \n",
       "31304  2021  28600.0000  \n",
       "31305  2021  32200.0000  \n",
       "31306  2021  39700.0000  \n",
       "31307  2021  39800.0000  \n",
       "31308  2021  40900.0000  \n",
       "\n",
       "[31309 rows x 7 columns]"
      ]
     },
     "execution_count": 7,
     "metadata": {},
     "output_type": "execute_result"
    }
   ],
   "source": [
    "# renaming the attributes using rename method\n",
    "\n",
    "lebanon = lebanon.rename(columns={'mkt_name' : 'city', 'cm_name' : 'commodity', 'pt_name' : 'pt', 'um_name' : 'quantity', 'mp_month' : 'month', 'mp_year' : 'year', 'mp_price' : 'price'})\n",
    "lebanon"
   ]
  },
  {
   "cell_type": "markdown",
   "id": "de06521d",
   "metadata": {},
   "source": [
    "Cleaning if there is any missing value, which can make the data skewed. We will use isnull() method"
   ]
  },
  {
   "cell_type": "code",
   "execution_count": 8,
   "id": "9a84f845",
   "metadata": {},
   "outputs": [
    {
     "data": {
      "text/plain": [
       "city         0\n",
       "commodity    0\n",
       "pt           0\n",
       "quantity     0\n",
       "month        0\n",
       "year         0\n",
       "price        0\n",
       "dtype: int64"
      ]
     },
     "execution_count": 8,
     "metadata": {},
     "output_type": "execute_result"
    }
   ],
   "source": [
    "lebanon.isnull().sum() #We look for any null value in the dataset"
   ]
  },
  {
   "cell_type": "markdown",
   "id": "770d0902",
   "metadata": {},
   "source": [
    "The data set contains no null value so far.\n",
    "\n",
    "We also look at all the existing values using unique() function for each **categorical data column**, to control the coherence:"
   ]
  },
  {
   "cell_type": "code",
   "execution_count": 9,
   "id": "8e40625a",
   "metadata": {},
   "outputs": [
    {
     "data": {
      "text/plain": [
       "city           26\n",
       "commodity      28\n",
       "pt              1\n",
       "quantity       12\n",
       "month          12\n",
       "year            6\n",
       "price        9433\n",
       "dtype: int64"
      ]
     },
     "execution_count": 9,
     "metadata": {},
     "output_type": "execute_result"
    }
   ],
   "source": [
    "lebanon.nunique()"
   ]
  },
  {
   "cell_type": "code",
   "execution_count": 10,
   "id": "e32f5a6e",
   "metadata": {},
   "outputs": [
    {
     "data": {
      "text/plain": [
       "array(['Baalbeck', 'Hermel', 'Rashaya', 'West Beqaa', 'Zahle', 'Beirut',\n",
       "       'Akkar', 'Batroun', 'Bechare', 'Koura', 'Minieh-Dannieh',\n",
       "       'Tripoli', 'Zgharta', 'Jezzine', 'Saida', 'Sour', 'Aley', 'Baabda',\n",
       "       'Chouf', 'El Metn', 'Jbeil', 'Keserwan', 'Bint Jbeil', 'Hasbaya',\n",
       "       'Marjayoun', 'Nabatiyeh'], dtype=object)"
      ]
     },
     "execution_count": 10,
     "metadata": {},
     "output_type": "execute_result"
    }
   ],
   "source": [
    "# unique cities\n",
    "\n",
    "lebanon['city'].unique()"
   ]
  },
  {
   "cell_type": "code",
   "execution_count": 11,
   "id": "8468f04d",
   "metadata": {},
   "outputs": [
    {
     "data": {
      "text/plain": [
       "array(['Wheat flour', 'Beans (white)', 'Eggs', 'Cabbage',\n",
       "       'Oil (sunflower)', 'Salt', 'Cucumbers (greenhouse)',\n",
       "       'Milk (powder)', 'Chickpeas', 'Fuel (diesel)',\n",
       "       'Rice (imported, Egyptian)', 'Tomatoes (paste)', 'Lettuce',\n",
       "       'Cheese (picon)', 'Meat (beef, canned)', 'Fish (sardine, canned)',\n",
       "       'Fish (tuna, canned)', 'Fuel (gas)', 'Sugar (white)',\n",
       "       'Bread (pita)', 'Spinach', 'Bulgur (brown)',\n",
       "       'Meat (chicken, whole, frozen)', 'Lentils (green)',\n",
       "       'Lentils (red)', 'Pasta (spaghetti)', 'Lentils (brown)',\n",
       "       'Fuel (petrol-gasoline, 95 octane)'], dtype=object)"
      ]
     },
     "execution_count": 11,
     "metadata": {},
     "output_type": "execute_result"
    }
   ],
   "source": [
    "# unique foods\n",
    "\n",
    "lebanon['commodity'].unique()"
   ]
  },
  {
   "cell_type": "code",
   "execution_count": 12,
   "id": "a6d36469",
   "metadata": {},
   "outputs": [
    {
     "data": {
      "text/plain": [
       "array(['Retail'], dtype=object)"
      ]
     },
     "execution_count": 12,
     "metadata": {},
     "output_type": "execute_result"
    }
   ],
   "source": [
    "lebanon['pt'].unique()"
   ]
  },
  {
   "cell_type": "markdown",
   "id": "8e89ca8c",
   "metadata": {},
   "source": [
    "We decide to also drop the column 'pt' as it only has one useless value which is 'Retail':"
   ]
  },
  {
   "cell_type": "code",
   "execution_count": 13,
   "id": "240a0646",
   "metadata": {},
   "outputs": [
    {
     "data": {
      "text/html": [
       "<div>\n",
       "<style scoped>\n",
       "    .dataframe tbody tr th:only-of-type {\n",
       "        vertical-align: middle;\n",
       "    }\n",
       "\n",
       "    .dataframe tbody tr th {\n",
       "        vertical-align: top;\n",
       "    }\n",
       "\n",
       "    .dataframe thead th {\n",
       "        text-align: right;\n",
       "    }\n",
       "</style>\n",
       "<table border=\"1\" class=\"dataframe\">\n",
       "  <thead>\n",
       "    <tr style=\"text-align: right;\">\n",
       "      <th></th>\n",
       "      <th>city</th>\n",
       "      <th>commodity</th>\n",
       "      <th>quantity</th>\n",
       "      <th>month</th>\n",
       "      <th>year</th>\n",
       "      <th>price</th>\n",
       "    </tr>\n",
       "  </thead>\n",
       "  <tbody>\n",
       "    <tr>\n",
       "      <th>0</th>\n",
       "      <td>Baalbeck</td>\n",
       "      <td>Wheat flour</td>\n",
       "      <td>KG</td>\n",
       "      <td>1</td>\n",
       "      <td>2016</td>\n",
       "      <td>838.1666</td>\n",
       "    </tr>\n",
       "    <tr>\n",
       "      <th>1</th>\n",
       "      <td>Baalbeck</td>\n",
       "      <td>Wheat flour</td>\n",
       "      <td>KG</td>\n",
       "      <td>2</td>\n",
       "      <td>2016</td>\n",
       "      <td>1018.7500</td>\n",
       "    </tr>\n",
       "    <tr>\n",
       "      <th>2</th>\n",
       "      <td>Baalbeck</td>\n",
       "      <td>Wheat flour</td>\n",
       "      <td>KG</td>\n",
       "      <td>3</td>\n",
       "      <td>2016</td>\n",
       "      <td>980.0000</td>\n",
       "    </tr>\n",
       "    <tr>\n",
       "      <th>3</th>\n",
       "      <td>Baalbeck</td>\n",
       "      <td>Wheat flour</td>\n",
       "      <td>KG</td>\n",
       "      <td>4</td>\n",
       "      <td>2016</td>\n",
       "      <td>961.0000</td>\n",
       "    </tr>\n",
       "    <tr>\n",
       "      <th>4</th>\n",
       "      <td>Baalbeck</td>\n",
       "      <td>Wheat flour</td>\n",
       "      <td>KG</td>\n",
       "      <td>5</td>\n",
       "      <td>2016</td>\n",
       "      <td>950.0000</td>\n",
       "    </tr>\n",
       "    <tr>\n",
       "      <th>...</th>\n",
       "      <td>...</td>\n",
       "      <td>...</td>\n",
       "      <td>...</td>\n",
       "      <td>...</td>\n",
       "      <td>...</td>\n",
       "      <td>...</td>\n",
       "    </tr>\n",
       "    <tr>\n",
       "      <th>31304</th>\n",
       "      <td>Nabatiyeh</td>\n",
       "      <td>Fuel (petrol-gasoline, 95 octane)</td>\n",
       "      <td>20 L</td>\n",
       "      <td>1</td>\n",
       "      <td>2021</td>\n",
       "      <td>28600.0000</td>\n",
       "    </tr>\n",
       "    <tr>\n",
       "      <th>31305</th>\n",
       "      <td>Nabatiyeh</td>\n",
       "      <td>Fuel (petrol-gasoline, 95 octane)</td>\n",
       "      <td>20 L</td>\n",
       "      <td>2</td>\n",
       "      <td>2021</td>\n",
       "      <td>32200.0000</td>\n",
       "    </tr>\n",
       "    <tr>\n",
       "      <th>31306</th>\n",
       "      <td>Nabatiyeh</td>\n",
       "      <td>Fuel (petrol-gasoline, 95 octane)</td>\n",
       "      <td>20 L</td>\n",
       "      <td>3</td>\n",
       "      <td>2021</td>\n",
       "      <td>39700.0000</td>\n",
       "    </tr>\n",
       "    <tr>\n",
       "      <th>31307</th>\n",
       "      <td>Nabatiyeh</td>\n",
       "      <td>Fuel (petrol-gasoline, 95 octane)</td>\n",
       "      <td>20 L</td>\n",
       "      <td>4</td>\n",
       "      <td>2021</td>\n",
       "      <td>39800.0000</td>\n",
       "    </tr>\n",
       "    <tr>\n",
       "      <th>31308</th>\n",
       "      <td>Nabatiyeh</td>\n",
       "      <td>Fuel (petrol-gasoline, 95 octane)</td>\n",
       "      <td>20 L</td>\n",
       "      <td>5</td>\n",
       "      <td>2021</td>\n",
       "      <td>40900.0000</td>\n",
       "    </tr>\n",
       "  </tbody>\n",
       "</table>\n",
       "<p>31309 rows × 6 columns</p>\n",
       "</div>"
      ],
      "text/plain": [
       "            city                          commodity quantity  month  year  \\\n",
       "0       Baalbeck                        Wheat flour       KG      1  2016   \n",
       "1       Baalbeck                        Wheat flour       KG      2  2016   \n",
       "2       Baalbeck                        Wheat flour       KG      3  2016   \n",
       "3       Baalbeck                        Wheat flour       KG      4  2016   \n",
       "4       Baalbeck                        Wheat flour       KG      5  2016   \n",
       "...          ...                                ...      ...    ...   ...   \n",
       "31304  Nabatiyeh  Fuel (petrol-gasoline, 95 octane)     20 L      1  2021   \n",
       "31305  Nabatiyeh  Fuel (petrol-gasoline, 95 octane)     20 L      2  2021   \n",
       "31306  Nabatiyeh  Fuel (petrol-gasoline, 95 octane)     20 L      3  2021   \n",
       "31307  Nabatiyeh  Fuel (petrol-gasoline, 95 octane)     20 L      4  2021   \n",
       "31308  Nabatiyeh  Fuel (petrol-gasoline, 95 octane)     20 L      5  2021   \n",
       "\n",
       "            price  \n",
       "0        838.1666  \n",
       "1       1018.7500  \n",
       "2        980.0000  \n",
       "3        961.0000  \n",
       "4        950.0000  \n",
       "...           ...  \n",
       "31304  28600.0000  \n",
       "31305  32200.0000  \n",
       "31306  39700.0000  \n",
       "31307  39800.0000  \n",
       "31308  40900.0000  \n",
       "\n",
       "[31309 rows x 6 columns]"
      ]
     },
     "execution_count": 13,
     "metadata": {},
     "output_type": "execute_result"
    }
   ],
   "source": [
    "lebanon = lebanon.drop(columns=['pt'])\n",
    "lebanon"
   ]
  },
  {
   "cell_type": "code",
   "execution_count": 14,
   "id": "6d806192",
   "metadata": {},
   "outputs": [
    {
     "data": {
      "text/plain": [
       "array([2016, 2017, 2018, 2019, 2020, 2021], dtype=int64)"
      ]
     },
     "execution_count": 14,
     "metadata": {},
     "output_type": "execute_result"
    }
   ],
   "source": [
    "# which years are covered\n",
    "\n",
    "lebanon['year'].unique()"
   ]
  },
  {
   "cell_type": "code",
   "execution_count": 15,
   "id": "163770a2",
   "metadata": {},
   "outputs": [
    {
     "data": {
      "text/plain": [
       "array([ 1,  2,  3,  4,  5,  6,  7,  8,  9, 10, 11, 12], dtype=int64)"
      ]
     },
     "execution_count": 15,
     "metadata": {},
     "output_type": "execute_result"
    }
   ],
   "source": [
    "# are all the months included\n",
    "\n",
    "lebanon['month'].unique()"
   ]
  },
  {
   "cell_type": "markdown",
   "id": "854aa2d1",
   "metadata": {},
   "source": [
    "We also round prices for a more readable dataset using round() function:"
   ]
  },
  {
   "cell_type": "code",
   "execution_count": 16,
   "id": "081e8955",
   "metadata": {},
   "outputs": [
    {
     "data": {
      "text/plain": [
       "0          838.0\n",
       "1         1019.0\n",
       "2          980.0\n",
       "3          961.0\n",
       "4          950.0\n",
       "          ...   \n",
       "31304    28600.0\n",
       "31305    32200.0\n",
       "31306    39700.0\n",
       "31307    39800.0\n",
       "31308    40900.0\n",
       "Name: price, Length: 31309, dtype: float64"
      ]
     },
     "execution_count": 16,
     "metadata": {},
     "output_type": "execute_result"
    }
   ],
   "source": [
    "lebanon['price'].round(0)"
   ]
  },
  {
   "cell_type": "markdown",
   "id": "9582bfa9",
   "metadata": {},
   "source": [
    "How many different commodity exists in the data"
   ]
  },
  {
   "cell_type": "code",
   "execution_count": 17,
   "id": "a520aba5",
   "metadata": {
    "scrolled": true
   },
   "outputs": [
    {
     "data": {
      "text/plain": [
       "array(['Wheat flour', 'Beans (white)', 'Eggs', 'Cabbage',\n",
       "       'Oil (sunflower)', 'Salt', 'Cucumbers (greenhouse)',\n",
       "       'Milk (powder)', 'Chickpeas', 'Fuel (diesel)',\n",
       "       'Rice (imported, Egyptian)', 'Tomatoes (paste)', 'Lettuce',\n",
       "       'Cheese (picon)', 'Meat (beef, canned)', 'Fish (sardine, canned)',\n",
       "       'Fish (tuna, canned)', 'Fuel (gas)', 'Sugar (white)',\n",
       "       'Bread (pita)', 'Spinach', 'Bulgur (brown)',\n",
       "       'Meat (chicken, whole, frozen)', 'Lentils (green)',\n",
       "       'Lentils (red)', 'Pasta (spaghetti)', 'Lentils (brown)',\n",
       "       'Fuel (petrol-gasoline, 95 octane)'], dtype=object)"
      ]
     },
     "execution_count": 17,
     "metadata": {},
     "output_type": "execute_result"
    }
   ],
   "source": [
    "# commodities\n",
    "\n",
    "lebanon.commodity.unique()"
   ]
  },
  {
   "cell_type": "markdown",
   "id": "21e1131d",
   "metadata": {},
   "source": [
    "We will also create another dataframe which only includes the commodities that are used for analysis. We first copy the original dataset to keep it, then get the commodity values using pandas conditional selection. We have chosen the most basic commodities, since we think they represent the food prices better. By this way, we can make safer generalizations about food prices in Lebanon. The commodities we have selected are the following:\n",
    "\n",
    "- Fuel (diesel)\n",
    "- Bread\n",
    "- Fish (tuna)\n",
    "- Oil (sunflower)\n",
    "- Eggs\n",
    "- Meat (beef, canned)\n",
    "- Sugar (white)\n",
    "- Salt"
   ]
  },
  {
   "cell_type": "code",
   "execution_count": 18,
   "id": "5def499d",
   "metadata": {},
   "outputs": [],
   "source": [
    "# creating a new dataframe containing the commodities of the analysis\n",
    "\n",
    "lebanon_selected = lebanon.copy()\n",
    "lebanon_selected = lebanon_selected[(lebanon['commodity'] == 'Fuel (diesel)') | (lebanon['commodity'] == 'Bread (pita)') | (lebanon['commodity'] == 'Oil (sunflower)') | \n",
    "                           (lebanon['commodity'] == 'Fish (tuna, canned)') | (lebanon['commodity'] == 'Eggs') | (lebanon['commodity'] == 'Meat (beef, canned)') |\n",
    "                           (lebanon['commodity'] == 'Sugar (white)') | (lebanon['commodity'] == 'Salt')]"
   ]
  },
  {
   "cell_type": "code",
   "execution_count": 19,
   "id": "9b36b9c4",
   "metadata": {},
   "outputs": [
    {
     "data": {
      "text/html": [
       "<div>\n",
       "<style scoped>\n",
       "    .dataframe tbody tr th:only-of-type {\n",
       "        vertical-align: middle;\n",
       "    }\n",
       "\n",
       "    .dataframe tbody tr th {\n",
       "        vertical-align: top;\n",
       "    }\n",
       "\n",
       "    .dataframe thead th {\n",
       "        text-align: right;\n",
       "    }\n",
       "</style>\n",
       "<table border=\"1\" class=\"dataframe\">\n",
       "  <thead>\n",
       "    <tr style=\"text-align: right;\">\n",
       "      <th></th>\n",
       "      <th>city</th>\n",
       "      <th>commodity</th>\n",
       "      <th>quantity</th>\n",
       "      <th>month</th>\n",
       "      <th>year</th>\n",
       "      <th>price</th>\n",
       "    </tr>\n",
       "  </thead>\n",
       "  <tbody>\n",
       "    <tr>\n",
       "      <th>130</th>\n",
       "      <td>Baalbeck</td>\n",
       "      <td>Eggs</td>\n",
       "      <td>30 pcs</td>\n",
       "      <td>1</td>\n",
       "      <td>2016</td>\n",
       "      <td>2103.1746</td>\n",
       "    </tr>\n",
       "    <tr>\n",
       "      <th>131</th>\n",
       "      <td>Baalbeck</td>\n",
       "      <td>Eggs</td>\n",
       "      <td>30 pcs</td>\n",
       "      <td>2</td>\n",
       "      <td>2016</td>\n",
       "      <td>1996.5278</td>\n",
       "    </tr>\n",
       "    <tr>\n",
       "      <th>132</th>\n",
       "      <td>Baalbeck</td>\n",
       "      <td>Eggs</td>\n",
       "      <td>30 pcs</td>\n",
       "      <td>3</td>\n",
       "      <td>2016</td>\n",
       "      <td>1818.1818</td>\n",
       "    </tr>\n",
       "    <tr>\n",
       "      <th>133</th>\n",
       "      <td>Baalbeck</td>\n",
       "      <td>Eggs</td>\n",
       "      <td>30 pcs</td>\n",
       "      <td>4</td>\n",
       "      <td>2016</td>\n",
       "      <td>3045.4546</td>\n",
       "    </tr>\n",
       "    <tr>\n",
       "      <th>134</th>\n",
       "      <td>Baalbeck</td>\n",
       "      <td>Eggs</td>\n",
       "      <td>30 pcs</td>\n",
       "      <td>5</td>\n",
       "      <td>2016</td>\n",
       "      <td>3041.6667</td>\n",
       "    </tr>\n",
       "    <tr>\n",
       "      <th>...</th>\n",
       "      <td>...</td>\n",
       "      <td>...</td>\n",
       "      <td>...</td>\n",
       "      <td>...</td>\n",
       "      <td>...</td>\n",
       "      <td>...</td>\n",
       "    </tr>\n",
       "    <tr>\n",
       "      <th>30952</th>\n",
       "      <td>Nabatiyeh</td>\n",
       "      <td>Bread (pita)</td>\n",
       "      <td>KG</td>\n",
       "      <td>1</td>\n",
       "      <td>2021</td>\n",
       "      <td>2156.7478</td>\n",
       "    </tr>\n",
       "    <tr>\n",
       "      <th>30953</th>\n",
       "      <td>Nabatiyeh</td>\n",
       "      <td>Bread (pita)</td>\n",
       "      <td>KG</td>\n",
       "      <td>2</td>\n",
       "      <td>2021</td>\n",
       "      <td>2500.0000</td>\n",
       "    </tr>\n",
       "    <tr>\n",
       "      <th>30954</th>\n",
       "      <td>Nabatiyeh</td>\n",
       "      <td>Bread (pita)</td>\n",
       "      <td>KG</td>\n",
       "      <td>3</td>\n",
       "      <td>2021</td>\n",
       "      <td>2592.9936</td>\n",
       "    </tr>\n",
       "    <tr>\n",
       "      <th>30955</th>\n",
       "      <td>Nabatiyeh</td>\n",
       "      <td>Bread (pita)</td>\n",
       "      <td>KG</td>\n",
       "      <td>4</td>\n",
       "      <td>2021</td>\n",
       "      <td>2445.5307</td>\n",
       "    </tr>\n",
       "    <tr>\n",
       "      <th>30956</th>\n",
       "      <td>Nabatiyeh</td>\n",
       "      <td>Bread (pita)</td>\n",
       "      <td>KG</td>\n",
       "      <td>5</td>\n",
       "      <td>2021</td>\n",
       "      <td>2750.0000</td>\n",
       "    </tr>\n",
       "  </tbody>\n",
       "</table>\n",
       "<p>10599 rows × 6 columns</p>\n",
       "</div>"
      ],
      "text/plain": [
       "            city     commodity quantity  month  year      price\n",
       "130     Baalbeck          Eggs   30 pcs      1  2016  2103.1746\n",
       "131     Baalbeck          Eggs   30 pcs      2  2016  1996.5278\n",
       "132     Baalbeck          Eggs   30 pcs      3  2016  1818.1818\n",
       "133     Baalbeck          Eggs   30 pcs      4  2016  3045.4546\n",
       "134     Baalbeck          Eggs   30 pcs      5  2016  3041.6667\n",
       "...          ...           ...      ...    ...   ...        ...\n",
       "30952  Nabatiyeh  Bread (pita)       KG      1  2021  2156.7478\n",
       "30953  Nabatiyeh  Bread (pita)       KG      2  2021  2500.0000\n",
       "30954  Nabatiyeh  Bread (pita)       KG      3  2021  2592.9936\n",
       "30955  Nabatiyeh  Bread (pita)       KG      4  2021  2445.5307\n",
       "30956  Nabatiyeh  Bread (pita)       KG      5  2021  2750.0000\n",
       "\n",
       "[10599 rows x 6 columns]"
      ]
     },
     "execution_count": 19,
     "metadata": {},
     "output_type": "execute_result"
    }
   ],
   "source": [
    "# checking if the code works\n",
    "\n",
    "lebanon_selected"
   ]
  },
  {
   "cell_type": "markdown",
   "id": "6d389d9f",
   "metadata": {},
   "source": [
    "## Step 3: Exploratory Data Analysis"
   ]
  },
  {
   "cell_type": "markdown",
   "id": "bea102da",
   "metadata": {},
   "source": [
    "We are now going to perform an exploratory data analysis on the most basic commodities corresponding to an average basket of goods. We begin with getting how many counts of data for each commodity using value_counts() method."
   ]
  },
  {
   "cell_type": "code",
   "execution_count": 20,
   "id": "f9b6e36c",
   "metadata": {},
   "outputs": [
    {
     "data": {
      "text/plain": [
       "Meat (beef, canned)                  1489\n",
       "Bulgur (brown)                       1487\n",
       "Cheese (picon)                       1480\n",
       "Milk (powder)                        1479\n",
       "Wheat flour                          1474\n",
       "Rice (imported, Egyptian)            1466\n",
       "Beans (white)                        1458\n",
       "Pasta (spaghetti)                    1451\n",
       "Sugar (white)                        1446\n",
       "Salt                                 1402\n",
       "Eggs                                 1389\n",
       "Bread (pita)                         1379\n",
       "Chickpeas                            1360\n",
       "Fuel (petrol-gasoline, 95 octane)    1307\n",
       "Fuel (diesel)                        1307\n",
       "Fuel (gas)                           1304\n",
       "Fish (tuna, canned)                  1257\n",
       "Lentils (red)                        1241\n",
       "Lentils (green)                      1239\n",
       "Tomatoes (paste)                     1174\n",
       "Oil (sunflower)                       930\n",
       "Lentils (brown)                       668\n",
       "Cucumbers (greenhouse)                606\n",
       "Meat (chicken, whole, frozen)         593\n",
       "Cabbage                               482\n",
       "Fish (sardine, canned)                200\n",
       "Lettuce                               143\n",
       "Spinach                                98\n",
       "Name: commodity, dtype: int64"
      ]
     },
     "execution_count": 20,
     "metadata": {},
     "output_type": "execute_result"
    }
   ],
   "source": [
    "# the number of entry for each commodity\n",
    "\n",
    "lebanon['commodity'].value_counts()"
   ]
  },
  {
   "cell_type": "markdown",
   "id": "230cc07a",
   "metadata": {},
   "source": [
    "The number of entries for the selected commodities ranges between 930 to 1489, which is representative of the price changes"
   ]
  },
  {
   "cell_type": "markdown",
   "id": "7f278d0f",
   "metadata": {},
   "source": [
    "The conduct the analysis efficiently, we will create new variables for each selected commodity using selection"
   ]
  },
  {
   "cell_type": "code",
   "execution_count": 21,
   "id": "b8c984e3",
   "metadata": {},
   "outputs": [
    {
     "data": {
      "text/html": [
       "<div>\n",
       "<style scoped>\n",
       "    .dataframe tbody tr th:only-of-type {\n",
       "        vertical-align: middle;\n",
       "    }\n",
       "\n",
       "    .dataframe tbody tr th {\n",
       "        vertical-align: top;\n",
       "    }\n",
       "\n",
       "    .dataframe thead th {\n",
       "        text-align: right;\n",
       "    }\n",
       "</style>\n",
       "<table border=\"1\" class=\"dataframe\">\n",
       "  <thead>\n",
       "    <tr style=\"text-align: right;\">\n",
       "      <th></th>\n",
       "      <th>city</th>\n",
       "      <th>commodity</th>\n",
       "      <th>quantity</th>\n",
       "      <th>month</th>\n",
       "      <th>year</th>\n",
       "      <th>price</th>\n",
       "    </tr>\n",
       "  </thead>\n",
       "  <tbody>\n",
       "    <tr>\n",
       "      <th>573</th>\n",
       "      <td>Baalbeck</td>\n",
       "      <td>Fuel (diesel)</td>\n",
       "      <td>20 L</td>\n",
       "      <td>1</td>\n",
       "      <td>2017</td>\n",
       "      <td>15000.0</td>\n",
       "    </tr>\n",
       "    <tr>\n",
       "      <th>574</th>\n",
       "      <td>Baalbeck</td>\n",
       "      <td>Fuel (diesel)</td>\n",
       "      <td>20 L</td>\n",
       "      <td>2</td>\n",
       "      <td>2017</td>\n",
       "      <td>15200.0</td>\n",
       "    </tr>\n",
       "    <tr>\n",
       "      <th>575</th>\n",
       "      <td>Baalbeck</td>\n",
       "      <td>Fuel (diesel)</td>\n",
       "      <td>20 L</td>\n",
       "      <td>3</td>\n",
       "      <td>2017</td>\n",
       "      <td>15300.0</td>\n",
       "    </tr>\n",
       "    <tr>\n",
       "      <th>576</th>\n",
       "      <td>Baalbeck</td>\n",
       "      <td>Fuel (diesel)</td>\n",
       "      <td>20 L</td>\n",
       "      <td>4</td>\n",
       "      <td>2017</td>\n",
       "      <td>14700.0</td>\n",
       "    </tr>\n",
       "    <tr>\n",
       "      <th>577</th>\n",
       "      <td>Baalbeck</td>\n",
       "      <td>Fuel (diesel)</td>\n",
       "      <td>20 L</td>\n",
       "      <td>5</td>\n",
       "      <td>2017</td>\n",
       "      <td>14700.0</td>\n",
       "    </tr>\n",
       "    <tr>\n",
       "      <th>...</th>\n",
       "      <td>...</td>\n",
       "      <td>...</td>\n",
       "      <td>...</td>\n",
       "      <td>...</td>\n",
       "      <td>...</td>\n",
       "      <td>...</td>\n",
       "    </tr>\n",
       "    <tr>\n",
       "      <th>30458</th>\n",
       "      <td>Nabatiyeh</td>\n",
       "      <td>Fuel (diesel)</td>\n",
       "      <td>20 L</td>\n",
       "      <td>1</td>\n",
       "      <td>2021</td>\n",
       "      <td>20000.0</td>\n",
       "    </tr>\n",
       "    <tr>\n",
       "      <th>30459</th>\n",
       "      <td>Nabatiyeh</td>\n",
       "      <td>Fuel (diesel)</td>\n",
       "      <td>20 L</td>\n",
       "      <td>2</td>\n",
       "      <td>2021</td>\n",
       "      <td>22300.0</td>\n",
       "    </tr>\n",
       "    <tr>\n",
       "      <th>30460</th>\n",
       "      <td>Nabatiyeh</td>\n",
       "      <td>Fuel (diesel)</td>\n",
       "      <td>20 L</td>\n",
       "      <td>3</td>\n",
       "      <td>2021</td>\n",
       "      <td>28000.0</td>\n",
       "    </tr>\n",
       "    <tr>\n",
       "      <th>30461</th>\n",
       "      <td>Nabatiyeh</td>\n",
       "      <td>Fuel (diesel)</td>\n",
       "      <td>20 L</td>\n",
       "      <td>4</td>\n",
       "      <td>2021</td>\n",
       "      <td>26100.0</td>\n",
       "    </tr>\n",
       "    <tr>\n",
       "      <th>30462</th>\n",
       "      <td>Nabatiyeh</td>\n",
       "      <td>Fuel (diesel)</td>\n",
       "      <td>20 L</td>\n",
       "      <td>5</td>\n",
       "      <td>2021</td>\n",
       "      <td>28600.0</td>\n",
       "    </tr>\n",
       "  </tbody>\n",
       "</table>\n",
       "<p>1307 rows × 6 columns</p>\n",
       "</div>"
      ],
      "text/plain": [
       "            city      commodity quantity  month  year    price\n",
       "573     Baalbeck  Fuel (diesel)     20 L      1  2017  15000.0\n",
       "574     Baalbeck  Fuel (diesel)     20 L      2  2017  15200.0\n",
       "575     Baalbeck  Fuel (diesel)     20 L      3  2017  15300.0\n",
       "576     Baalbeck  Fuel (diesel)     20 L      4  2017  14700.0\n",
       "577     Baalbeck  Fuel (diesel)     20 L      5  2017  14700.0\n",
       "...          ...            ...      ...    ...   ...      ...\n",
       "30458  Nabatiyeh  Fuel (diesel)     20 L      1  2021  20000.0\n",
       "30459  Nabatiyeh  Fuel (diesel)     20 L      2  2021  22300.0\n",
       "30460  Nabatiyeh  Fuel (diesel)     20 L      3  2021  28000.0\n",
       "30461  Nabatiyeh  Fuel (diesel)     20 L      4  2021  26100.0\n",
       "30462  Nabatiyeh  Fuel (diesel)     20 L      5  2021  28600.0\n",
       "\n",
       "[1307 rows x 6 columns]"
      ]
     },
     "execution_count": 21,
     "metadata": {},
     "output_type": "execute_result"
    }
   ],
   "source": [
    "# fuel variable\n",
    "\n",
    "fuel = lebanon[lebanon['commodity'] == 'Fuel (diesel)']\n",
    "fuel"
   ]
  },
  {
   "cell_type": "code",
   "execution_count": 22,
   "id": "8cf8902d",
   "metadata": {},
   "outputs": [
    {
     "data": {
      "text/html": [
       "<div>\n",
       "<style scoped>\n",
       "    .dataframe tbody tr th:only-of-type {\n",
       "        vertical-align: middle;\n",
       "    }\n",
       "\n",
       "    .dataframe tbody tr th {\n",
       "        vertical-align: top;\n",
       "    }\n",
       "\n",
       "    .dataframe thead th {\n",
       "        text-align: right;\n",
       "    }\n",
       "</style>\n",
       "<table border=\"1\" class=\"dataframe\">\n",
       "  <thead>\n",
       "    <tr style=\"text-align: right;\">\n",
       "      <th></th>\n",
       "      <th>city</th>\n",
       "      <th>commodity</th>\n",
       "      <th>quantity</th>\n",
       "      <th>month</th>\n",
       "      <th>year</th>\n",
       "      <th>price</th>\n",
       "    </tr>\n",
       "  </thead>\n",
       "  <tbody>\n",
       "    <tr>\n",
       "      <th>1084</th>\n",
       "      <td>Baalbeck</td>\n",
       "      <td>Bread (pita)</td>\n",
       "      <td>KG</td>\n",
       "      <td>1</td>\n",
       "      <td>2016</td>\n",
       "      <td>1315.7895</td>\n",
       "    </tr>\n",
       "    <tr>\n",
       "      <th>1085</th>\n",
       "      <td>Baalbeck</td>\n",
       "      <td>Bread (pita)</td>\n",
       "      <td>KG</td>\n",
       "      <td>2</td>\n",
       "      <td>2016</td>\n",
       "      <td>1348.6842</td>\n",
       "    </tr>\n",
       "    <tr>\n",
       "      <th>1086</th>\n",
       "      <td>Baalbeck</td>\n",
       "      <td>Bread (pita)</td>\n",
       "      <td>KG</td>\n",
       "      <td>3</td>\n",
       "      <td>2016</td>\n",
       "      <td>1459.3301</td>\n",
       "    </tr>\n",
       "    <tr>\n",
       "      <th>1087</th>\n",
       "      <td>Baalbeck</td>\n",
       "      <td>Bread (pita)</td>\n",
       "      <td>KG</td>\n",
       "      <td>4</td>\n",
       "      <td>2016</td>\n",
       "      <td>1389.2823</td>\n",
       "    </tr>\n",
       "    <tr>\n",
       "      <th>1088</th>\n",
       "      <td>Baalbeck</td>\n",
       "      <td>Bread (pita)</td>\n",
       "      <td>KG</td>\n",
       "      <td>5</td>\n",
       "      <td>2016</td>\n",
       "      <td>1496.4495</td>\n",
       "    </tr>\n",
       "    <tr>\n",
       "      <th>...</th>\n",
       "      <td>...</td>\n",
       "      <td>...</td>\n",
       "      <td>...</td>\n",
       "      <td>...</td>\n",
       "      <td>...</td>\n",
       "      <td>...</td>\n",
       "    </tr>\n",
       "    <tr>\n",
       "      <th>30952</th>\n",
       "      <td>Nabatiyeh</td>\n",
       "      <td>Bread (pita)</td>\n",
       "      <td>KG</td>\n",
       "      <td>1</td>\n",
       "      <td>2021</td>\n",
       "      <td>2156.7478</td>\n",
       "    </tr>\n",
       "    <tr>\n",
       "      <th>30953</th>\n",
       "      <td>Nabatiyeh</td>\n",
       "      <td>Bread (pita)</td>\n",
       "      <td>KG</td>\n",
       "      <td>2</td>\n",
       "      <td>2021</td>\n",
       "      <td>2500.0000</td>\n",
       "    </tr>\n",
       "    <tr>\n",
       "      <th>30954</th>\n",
       "      <td>Nabatiyeh</td>\n",
       "      <td>Bread (pita)</td>\n",
       "      <td>KG</td>\n",
       "      <td>3</td>\n",
       "      <td>2021</td>\n",
       "      <td>2592.9936</td>\n",
       "    </tr>\n",
       "    <tr>\n",
       "      <th>30955</th>\n",
       "      <td>Nabatiyeh</td>\n",
       "      <td>Bread (pita)</td>\n",
       "      <td>KG</td>\n",
       "      <td>4</td>\n",
       "      <td>2021</td>\n",
       "      <td>2445.5307</td>\n",
       "    </tr>\n",
       "    <tr>\n",
       "      <th>30956</th>\n",
       "      <td>Nabatiyeh</td>\n",
       "      <td>Bread (pita)</td>\n",
       "      <td>KG</td>\n",
       "      <td>5</td>\n",
       "      <td>2021</td>\n",
       "      <td>2750.0000</td>\n",
       "    </tr>\n",
       "  </tbody>\n",
       "</table>\n",
       "<p>1379 rows × 6 columns</p>\n",
       "</div>"
      ],
      "text/plain": [
       "            city     commodity quantity  month  year      price\n",
       "1084    Baalbeck  Bread (pita)       KG      1  2016  1315.7895\n",
       "1085    Baalbeck  Bread (pita)       KG      2  2016  1348.6842\n",
       "1086    Baalbeck  Bread (pita)       KG      3  2016  1459.3301\n",
       "1087    Baalbeck  Bread (pita)       KG      4  2016  1389.2823\n",
       "1088    Baalbeck  Bread (pita)       KG      5  2016  1496.4495\n",
       "...          ...           ...      ...    ...   ...        ...\n",
       "30952  Nabatiyeh  Bread (pita)       KG      1  2021  2156.7478\n",
       "30953  Nabatiyeh  Bread (pita)       KG      2  2021  2500.0000\n",
       "30954  Nabatiyeh  Bread (pita)       KG      3  2021  2592.9936\n",
       "30955  Nabatiyeh  Bread (pita)       KG      4  2021  2445.5307\n",
       "30956  Nabatiyeh  Bread (pita)       KG      5  2021  2750.0000\n",
       "\n",
       "[1379 rows x 6 columns]"
      ]
     },
     "execution_count": 22,
     "metadata": {},
     "output_type": "execute_result"
    }
   ],
   "source": [
    "# bread variable\n",
    "\n",
    "bread = lebanon[lebanon['commodity'] == 'Bread (pita)']\n",
    "bread"
   ]
  },
  {
   "cell_type": "code",
   "execution_count": 23,
   "id": "3c73b1fd",
   "metadata": {},
   "outputs": [
    {
     "data": {
      "text/html": [
       "<div>\n",
       "<style scoped>\n",
       "    .dataframe tbody tr th:only-of-type {\n",
       "        vertical-align: middle;\n",
       "    }\n",
       "\n",
       "    .dataframe tbody tr th {\n",
       "        vertical-align: top;\n",
       "    }\n",
       "\n",
       "    .dataframe thead th {\n",
       "        text-align: right;\n",
       "    }\n",
       "</style>\n",
       "<table border=\"1\" class=\"dataframe\">\n",
       "  <thead>\n",
       "    <tr style=\"text-align: right;\">\n",
       "      <th></th>\n",
       "      <th>city</th>\n",
       "      <th>commodity</th>\n",
       "      <th>quantity</th>\n",
       "      <th>month</th>\n",
       "      <th>year</th>\n",
       "      <th>price</th>\n",
       "    </tr>\n",
       "  </thead>\n",
       "  <tbody>\n",
       "    <tr>\n",
       "      <th>259</th>\n",
       "      <td>Baalbeck</td>\n",
       "      <td>Oil (sunflower)</td>\n",
       "      <td>5 L</td>\n",
       "      <td>1</td>\n",
       "      <td>2016</td>\n",
       "      <td>9014.2857</td>\n",
       "    </tr>\n",
       "    <tr>\n",
       "      <th>260</th>\n",
       "      <td>Baalbeck</td>\n",
       "      <td>Oil (sunflower)</td>\n",
       "      <td>5 L</td>\n",
       "      <td>2</td>\n",
       "      <td>2016</td>\n",
       "      <td>9437.5000</td>\n",
       "    </tr>\n",
       "    <tr>\n",
       "      <th>261</th>\n",
       "      <td>Baalbeck</td>\n",
       "      <td>Oil (sunflower)</td>\n",
       "      <td>5 L</td>\n",
       "      <td>3</td>\n",
       "      <td>2016</td>\n",
       "      <td>9869.0909</td>\n",
       "    </tr>\n",
       "    <tr>\n",
       "      <th>262</th>\n",
       "      <td>Baalbeck</td>\n",
       "      <td>Oil (sunflower)</td>\n",
       "      <td>5 L</td>\n",
       "      <td>4</td>\n",
       "      <td>2016</td>\n",
       "      <td>9300.9091</td>\n",
       "    </tr>\n",
       "    <tr>\n",
       "      <th>263</th>\n",
       "      <td>Baalbeck</td>\n",
       "      <td>Oil (sunflower)</td>\n",
       "      <td>5 L</td>\n",
       "      <td>1</td>\n",
       "      <td>2017</td>\n",
       "      <td>10240.0000</td>\n",
       "    </tr>\n",
       "    <tr>\n",
       "      <th>...</th>\n",
       "      <td>...</td>\n",
       "      <td>...</td>\n",
       "      <td>...</td>\n",
       "      <td>...</td>\n",
       "      <td>...</td>\n",
       "      <td>...</td>\n",
       "    </tr>\n",
       "    <tr>\n",
       "      <th>30216</th>\n",
       "      <td>Nabatiyeh</td>\n",
       "      <td>Oil (sunflower)</td>\n",
       "      <td>5 L</td>\n",
       "      <td>1</td>\n",
       "      <td>2021</td>\n",
       "      <td>69491.4666</td>\n",
       "    </tr>\n",
       "    <tr>\n",
       "      <th>30217</th>\n",
       "      <td>Nabatiyeh</td>\n",
       "      <td>Oil (sunflower)</td>\n",
       "      <td>5 L</td>\n",
       "      <td>2</td>\n",
       "      <td>2021</td>\n",
       "      <td>72800.6369</td>\n",
       "    </tr>\n",
       "    <tr>\n",
       "      <th>30218</th>\n",
       "      <td>Nabatiyeh</td>\n",
       "      <td>Oil (sunflower)</td>\n",
       "      <td>5 L</td>\n",
       "      <td>3</td>\n",
       "      <td>2021</td>\n",
       "      <td>85447.9972</td>\n",
       "    </tr>\n",
       "    <tr>\n",
       "      <th>30219</th>\n",
       "      <td>Nabatiyeh</td>\n",
       "      <td>Oil (sunflower)</td>\n",
       "      <td>5 L</td>\n",
       "      <td>4</td>\n",
       "      <td>2021</td>\n",
       "      <td>116347.5138</td>\n",
       "    </tr>\n",
       "    <tr>\n",
       "      <th>30220</th>\n",
       "      <td>Nabatiyeh</td>\n",
       "      <td>Oil (sunflower)</td>\n",
       "      <td>5 L</td>\n",
       "      <td>5</td>\n",
       "      <td>2021</td>\n",
       "      <td>107750.0000</td>\n",
       "    </tr>\n",
       "  </tbody>\n",
       "</table>\n",
       "<p>930 rows × 6 columns</p>\n",
       "</div>"
      ],
      "text/plain": [
       "            city        commodity quantity  month  year        price\n",
       "259     Baalbeck  Oil (sunflower)      5 L      1  2016    9014.2857\n",
       "260     Baalbeck  Oil (sunflower)      5 L      2  2016    9437.5000\n",
       "261     Baalbeck  Oil (sunflower)      5 L      3  2016    9869.0909\n",
       "262     Baalbeck  Oil (sunflower)      5 L      4  2016    9300.9091\n",
       "263     Baalbeck  Oil (sunflower)      5 L      1  2017   10240.0000\n",
       "...          ...              ...      ...    ...   ...          ...\n",
       "30216  Nabatiyeh  Oil (sunflower)      5 L      1  2021   69491.4666\n",
       "30217  Nabatiyeh  Oil (sunflower)      5 L      2  2021   72800.6369\n",
       "30218  Nabatiyeh  Oil (sunflower)      5 L      3  2021   85447.9972\n",
       "30219  Nabatiyeh  Oil (sunflower)      5 L      4  2021  116347.5138\n",
       "30220  Nabatiyeh  Oil (sunflower)      5 L      5  2021  107750.0000\n",
       "\n",
       "[930 rows x 6 columns]"
      ]
     },
     "execution_count": 23,
     "metadata": {},
     "output_type": "execute_result"
    }
   ],
   "source": [
    "# sunflower oil\n",
    "\n",
    "oil_s = lebanon[lebanon['commodity'] == 'Oil (sunflower)']\n",
    "oil_s"
   ]
  },
  {
   "cell_type": "code",
   "execution_count": 24,
   "id": "740b99d1",
   "metadata": {},
   "outputs": [
    {
     "data": {
      "text/html": [
       "<div>\n",
       "<style scoped>\n",
       "    .dataframe tbody tr th:only-of-type {\n",
       "        vertical-align: middle;\n",
       "    }\n",
       "\n",
       "    .dataframe tbody tr th {\n",
       "        vertical-align: top;\n",
       "    }\n",
       "\n",
       "    .dataframe thead th {\n",
       "        text-align: right;\n",
       "    }\n",
       "</style>\n",
       "<table border=\"1\" class=\"dataframe\">\n",
       "  <thead>\n",
       "    <tr style=\"text-align: right;\">\n",
       "      <th></th>\n",
       "      <th>city</th>\n",
       "      <th>commodity</th>\n",
       "      <th>quantity</th>\n",
       "      <th>month</th>\n",
       "      <th>year</th>\n",
       "      <th>price</th>\n",
       "    </tr>\n",
       "  </thead>\n",
       "  <tbody>\n",
       "    <tr>\n",
       "      <th>904</th>\n",
       "      <td>Baalbeck</td>\n",
       "      <td>Fish (tuna, canned)</td>\n",
       "      <td>185 G</td>\n",
       "      <td>1</td>\n",
       "      <td>2016</td>\n",
       "      <td>1737.1429</td>\n",
       "    </tr>\n",
       "    <tr>\n",
       "      <th>905</th>\n",
       "      <td>Baalbeck</td>\n",
       "      <td>Fish (tuna, canned)</td>\n",
       "      <td>185 G</td>\n",
       "      <td>2</td>\n",
       "      <td>2016</td>\n",
       "      <td>1562.5000</td>\n",
       "    </tr>\n",
       "    <tr>\n",
       "      <th>906</th>\n",
       "      <td>Baalbeck</td>\n",
       "      <td>Fish (tuna, canned)</td>\n",
       "      <td>185 G</td>\n",
       "      <td>3</td>\n",
       "      <td>2016</td>\n",
       "      <td>1731.3636</td>\n",
       "    </tr>\n",
       "    <tr>\n",
       "      <th>907</th>\n",
       "      <td>Baalbeck</td>\n",
       "      <td>Fish (tuna, canned)</td>\n",
       "      <td>185 G</td>\n",
       "      <td>4</td>\n",
       "      <td>2016</td>\n",
       "      <td>1886.3637</td>\n",
       "    </tr>\n",
       "    <tr>\n",
       "      <th>908</th>\n",
       "      <td>Baalbeck</td>\n",
       "      <td>Fish (tuna, canned)</td>\n",
       "      <td>185 G</td>\n",
       "      <td>5</td>\n",
       "      <td>2016</td>\n",
       "      <td>1852.8646</td>\n",
       "    </tr>\n",
       "    <tr>\n",
       "      <th>...</th>\n",
       "      <td>...</td>\n",
       "      <td>...</td>\n",
       "      <td>...</td>\n",
       "      <td>...</td>\n",
       "      <td>...</td>\n",
       "      <td>...</td>\n",
       "    </tr>\n",
       "    <tr>\n",
       "      <th>30775</th>\n",
       "      <td>Nabatiyeh</td>\n",
       "      <td>Fish (tuna, canned)</td>\n",
       "      <td>185 G</td>\n",
       "      <td>1</td>\n",
       "      <td>2021</td>\n",
       "      <td>6657.2452</td>\n",
       "    </tr>\n",
       "    <tr>\n",
       "      <th>30776</th>\n",
       "      <td>Nabatiyeh</td>\n",
       "      <td>Fish (tuna, canned)</td>\n",
       "      <td>185 G</td>\n",
       "      <td>2</td>\n",
       "      <td>2021</td>\n",
       "      <td>8355.7794</td>\n",
       "    </tr>\n",
       "    <tr>\n",
       "      <th>30777</th>\n",
       "      <td>Nabatiyeh</td>\n",
       "      <td>Fish (tuna, canned)</td>\n",
       "      <td>185 G</td>\n",
       "      <td>3</td>\n",
       "      <td>2021</td>\n",
       "      <td>7008.5818</td>\n",
       "    </tr>\n",
       "    <tr>\n",
       "      <th>30778</th>\n",
       "      <td>Nabatiyeh</td>\n",
       "      <td>Fish (tuna, canned)</td>\n",
       "      <td>185 G</td>\n",
       "      <td>4</td>\n",
       "      <td>2021</td>\n",
       "      <td>7196.1406</td>\n",
       "    </tr>\n",
       "    <tr>\n",
       "      <th>30779</th>\n",
       "      <td>Nabatiyeh</td>\n",
       "      <td>Fish (tuna, canned)</td>\n",
       "      <td>185 G</td>\n",
       "      <td>5</td>\n",
       "      <td>2021</td>\n",
       "      <td>9192.1875</td>\n",
       "    </tr>\n",
       "  </tbody>\n",
       "</table>\n",
       "<p>1257 rows × 6 columns</p>\n",
       "</div>"
      ],
      "text/plain": [
       "            city            commodity quantity  month  year      price\n",
       "904     Baalbeck  Fish (tuna, canned)    185 G      1  2016  1737.1429\n",
       "905     Baalbeck  Fish (tuna, canned)    185 G      2  2016  1562.5000\n",
       "906     Baalbeck  Fish (tuna, canned)    185 G      3  2016  1731.3636\n",
       "907     Baalbeck  Fish (tuna, canned)    185 G      4  2016  1886.3637\n",
       "908     Baalbeck  Fish (tuna, canned)    185 G      5  2016  1852.8646\n",
       "...          ...                  ...      ...    ...   ...        ...\n",
       "30775  Nabatiyeh  Fish (tuna, canned)    185 G      1  2021  6657.2452\n",
       "30776  Nabatiyeh  Fish (tuna, canned)    185 G      2  2021  8355.7794\n",
       "30777  Nabatiyeh  Fish (tuna, canned)    185 G      3  2021  7008.5818\n",
       "30778  Nabatiyeh  Fish (tuna, canned)    185 G      4  2021  7196.1406\n",
       "30779  Nabatiyeh  Fish (tuna, canned)    185 G      5  2021  9192.1875\n",
       "\n",
       "[1257 rows x 6 columns]"
      ]
     },
     "execution_count": 24,
     "metadata": {},
     "output_type": "execute_result"
    }
   ],
   "source": [
    "# canned tuna fish\n",
    "\n",
    "fish = lebanon[lebanon['commodity'] == 'Fish (tuna, canned)']\n",
    "fish"
   ]
  },
  {
   "cell_type": "code",
   "execution_count": 25,
   "id": "5f253036",
   "metadata": {},
   "outputs": [
    {
     "data": {
      "text/html": [
       "<div>\n",
       "<style scoped>\n",
       "    .dataframe tbody tr th:only-of-type {\n",
       "        vertical-align: middle;\n",
       "    }\n",
       "\n",
       "    .dataframe tbody tr th {\n",
       "        vertical-align: top;\n",
       "    }\n",
       "\n",
       "    .dataframe thead th {\n",
       "        text-align: right;\n",
       "    }\n",
       "</style>\n",
       "<table border=\"1\" class=\"dataframe\">\n",
       "  <thead>\n",
       "    <tr style=\"text-align: right;\">\n",
       "      <th></th>\n",
       "      <th>city</th>\n",
       "      <th>commodity</th>\n",
       "      <th>quantity</th>\n",
       "      <th>month</th>\n",
       "      <th>year</th>\n",
       "      <th>price</th>\n",
       "    </tr>\n",
       "  </thead>\n",
       "  <tbody>\n",
       "    <tr>\n",
       "      <th>130</th>\n",
       "      <td>Baalbeck</td>\n",
       "      <td>Eggs</td>\n",
       "      <td>30 pcs</td>\n",
       "      <td>1</td>\n",
       "      <td>2016</td>\n",
       "      <td>2103.1746</td>\n",
       "    </tr>\n",
       "    <tr>\n",
       "      <th>131</th>\n",
       "      <td>Baalbeck</td>\n",
       "      <td>Eggs</td>\n",
       "      <td>30 pcs</td>\n",
       "      <td>2</td>\n",
       "      <td>2016</td>\n",
       "      <td>1996.5278</td>\n",
       "    </tr>\n",
       "    <tr>\n",
       "      <th>132</th>\n",
       "      <td>Baalbeck</td>\n",
       "      <td>Eggs</td>\n",
       "      <td>30 pcs</td>\n",
       "      <td>3</td>\n",
       "      <td>2016</td>\n",
       "      <td>1818.1818</td>\n",
       "    </tr>\n",
       "    <tr>\n",
       "      <th>133</th>\n",
       "      <td>Baalbeck</td>\n",
       "      <td>Eggs</td>\n",
       "      <td>30 pcs</td>\n",
       "      <td>4</td>\n",
       "      <td>2016</td>\n",
       "      <td>3045.4546</td>\n",
       "    </tr>\n",
       "    <tr>\n",
       "      <th>134</th>\n",
       "      <td>Baalbeck</td>\n",
       "      <td>Eggs</td>\n",
       "      <td>30 pcs</td>\n",
       "      <td>5</td>\n",
       "      <td>2016</td>\n",
       "      <td>3041.6667</td>\n",
       "    </tr>\n",
       "    <tr>\n",
       "      <th>...</th>\n",
       "      <td>...</td>\n",
       "      <td>...</td>\n",
       "      <td>...</td>\n",
       "      <td>...</td>\n",
       "      <td>...</td>\n",
       "      <td>...</td>\n",
       "    </tr>\n",
       "    <tr>\n",
       "      <th>30157</th>\n",
       "      <td>Nabatiyeh</td>\n",
       "      <td>Eggs</td>\n",
       "      <td>30 pcs</td>\n",
       "      <td>1</td>\n",
       "      <td>2021</td>\n",
       "      <td>16861.0587</td>\n",
       "    </tr>\n",
       "    <tr>\n",
       "      <th>30158</th>\n",
       "      <td>Nabatiyeh</td>\n",
       "      <td>Eggs</td>\n",
       "      <td>30 pcs</td>\n",
       "      <td>2</td>\n",
       "      <td>2021</td>\n",
       "      <td>18370.1833</td>\n",
       "    </tr>\n",
       "    <tr>\n",
       "      <th>30159</th>\n",
       "      <td>Nabatiyeh</td>\n",
       "      <td>Eggs</td>\n",
       "      <td>30 pcs</td>\n",
       "      <td>3</td>\n",
       "      <td>2021</td>\n",
       "      <td>23175.5551</td>\n",
       "    </tr>\n",
       "    <tr>\n",
       "      <th>30160</th>\n",
       "      <td>Nabatiyeh</td>\n",
       "      <td>Eggs</td>\n",
       "      <td>30 pcs</td>\n",
       "      <td>4</td>\n",
       "      <td>2021</td>\n",
       "      <td>24044.2073</td>\n",
       "    </tr>\n",
       "    <tr>\n",
       "      <th>30161</th>\n",
       "      <td>Nabatiyeh</td>\n",
       "      <td>Eggs</td>\n",
       "      <td>30 pcs</td>\n",
       "      <td>5</td>\n",
       "      <td>2021</td>\n",
       "      <td>26921.4181</td>\n",
       "    </tr>\n",
       "  </tbody>\n",
       "</table>\n",
       "<p>1389 rows × 6 columns</p>\n",
       "</div>"
      ],
      "text/plain": [
       "            city commodity quantity  month  year       price\n",
       "130     Baalbeck      Eggs   30 pcs      1  2016   2103.1746\n",
       "131     Baalbeck      Eggs   30 pcs      2  2016   1996.5278\n",
       "132     Baalbeck      Eggs   30 pcs      3  2016   1818.1818\n",
       "133     Baalbeck      Eggs   30 pcs      4  2016   3045.4546\n",
       "134     Baalbeck      Eggs   30 pcs      5  2016   3041.6667\n",
       "...          ...       ...      ...    ...   ...         ...\n",
       "30157  Nabatiyeh      Eggs   30 pcs      1  2021  16861.0587\n",
       "30158  Nabatiyeh      Eggs   30 pcs      2  2021  18370.1833\n",
       "30159  Nabatiyeh      Eggs   30 pcs      3  2021  23175.5551\n",
       "30160  Nabatiyeh      Eggs   30 pcs      4  2021  24044.2073\n",
       "30161  Nabatiyeh      Eggs   30 pcs      5  2021  26921.4181\n",
       "\n",
       "[1389 rows x 6 columns]"
      ]
     },
     "execution_count": 25,
     "metadata": {},
     "output_type": "execute_result"
    }
   ],
   "source": [
    "# Egg\n",
    "\n",
    "egg = lebanon[lebanon['commodity'] == 'Eggs']\n",
    "egg"
   ]
  },
  {
   "cell_type": "code",
   "execution_count": 26,
   "id": "a8caa014",
   "metadata": {},
   "outputs": [
    {
     "data": {
      "text/html": [
       "<div>\n",
       "<style scoped>\n",
       "    .dataframe tbody tr th:only-of-type {\n",
       "        vertical-align: middle;\n",
       "    }\n",
       "\n",
       "    .dataframe tbody tr th {\n",
       "        vertical-align: top;\n",
       "    }\n",
       "\n",
       "    .dataframe thead th {\n",
       "        text-align: right;\n",
       "    }\n",
       "</style>\n",
       "<table border=\"1\" class=\"dataframe\">\n",
       "  <thead>\n",
       "    <tr style=\"text-align: right;\">\n",
       "      <th></th>\n",
       "      <th>city</th>\n",
       "      <th>commodity</th>\n",
       "      <th>quantity</th>\n",
       "      <th>month</th>\n",
       "      <th>year</th>\n",
       "      <th>price</th>\n",
       "    </tr>\n",
       "  </thead>\n",
       "  <tbody>\n",
       "    <tr>\n",
       "      <th>827</th>\n",
       "      <td>Baalbeck</td>\n",
       "      <td>Meat (beef, canned)</td>\n",
       "      <td>200 G</td>\n",
       "      <td>1</td>\n",
       "      <td>2016</td>\n",
       "      <td>1835.0000</td>\n",
       "    </tr>\n",
       "    <tr>\n",
       "      <th>828</th>\n",
       "      <td>Baalbeck</td>\n",
       "      <td>Meat (beef, canned)</td>\n",
       "      <td>200 G</td>\n",
       "      <td>2</td>\n",
       "      <td>2016</td>\n",
       "      <td>1906.2500</td>\n",
       "    </tr>\n",
       "    <tr>\n",
       "      <th>829</th>\n",
       "      <td>Baalbeck</td>\n",
       "      <td>Meat (beef, canned)</td>\n",
       "      <td>200 G</td>\n",
       "      <td>3</td>\n",
       "      <td>2016</td>\n",
       "      <td>1709.5455</td>\n",
       "    </tr>\n",
       "    <tr>\n",
       "      <th>830</th>\n",
       "      <td>Baalbeck</td>\n",
       "      <td>Meat (beef, canned)</td>\n",
       "      <td>200 G</td>\n",
       "      <td>4</td>\n",
       "      <td>2016</td>\n",
       "      <td>1800.0000</td>\n",
       "    </tr>\n",
       "    <tr>\n",
       "      <th>831</th>\n",
       "      <td>Baalbeck</td>\n",
       "      <td>Meat (beef, canned)</td>\n",
       "      <td>200 G</td>\n",
       "      <td>5</td>\n",
       "      <td>2016</td>\n",
       "      <td>1641.6666</td>\n",
       "    </tr>\n",
       "    <tr>\n",
       "      <th>...</th>\n",
       "      <td>...</td>\n",
       "      <td>...</td>\n",
       "      <td>...</td>\n",
       "      <td>...</td>\n",
       "      <td>...</td>\n",
       "      <td>...</td>\n",
       "    </tr>\n",
       "    <tr>\n",
       "      <th>30704</th>\n",
       "      <td>Nabatiyeh</td>\n",
       "      <td>Meat (beef, canned)</td>\n",
       "      <td>200 G</td>\n",
       "      <td>1</td>\n",
       "      <td>2021</td>\n",
       "      <td>5550.3789</td>\n",
       "    </tr>\n",
       "    <tr>\n",
       "      <th>30705</th>\n",
       "      <td>Nabatiyeh</td>\n",
       "      <td>Meat (beef, canned)</td>\n",
       "      <td>200 G</td>\n",
       "      <td>2</td>\n",
       "      <td>2021</td>\n",
       "      <td>5601.7328</td>\n",
       "    </tr>\n",
       "    <tr>\n",
       "      <th>30706</th>\n",
       "      <td>Nabatiyeh</td>\n",
       "      <td>Meat (beef, canned)</td>\n",
       "      <td>200 G</td>\n",
       "      <td>3</td>\n",
       "      <td>2021</td>\n",
       "      <td>6295.1187</td>\n",
       "    </tr>\n",
       "    <tr>\n",
       "      <th>30707</th>\n",
       "      <td>Nabatiyeh</td>\n",
       "      <td>Meat (beef, canned)</td>\n",
       "      <td>200 G</td>\n",
       "      <td>4</td>\n",
       "      <td>2021</td>\n",
       "      <td>7875.8225</td>\n",
       "    </tr>\n",
       "    <tr>\n",
       "      <th>30708</th>\n",
       "      <td>Nabatiyeh</td>\n",
       "      <td>Meat (beef, canned)</td>\n",
       "      <td>200 G</td>\n",
       "      <td>5</td>\n",
       "      <td>2021</td>\n",
       "      <td>7177.0370</td>\n",
       "    </tr>\n",
       "  </tbody>\n",
       "</table>\n",
       "<p>1489 rows × 6 columns</p>\n",
       "</div>"
      ],
      "text/plain": [
       "            city            commodity quantity  month  year      price\n",
       "827     Baalbeck  Meat (beef, canned)    200 G      1  2016  1835.0000\n",
       "828     Baalbeck  Meat (beef, canned)    200 G      2  2016  1906.2500\n",
       "829     Baalbeck  Meat (beef, canned)    200 G      3  2016  1709.5455\n",
       "830     Baalbeck  Meat (beef, canned)    200 G      4  2016  1800.0000\n",
       "831     Baalbeck  Meat (beef, canned)    200 G      5  2016  1641.6666\n",
       "...          ...                  ...      ...    ...   ...        ...\n",
       "30704  Nabatiyeh  Meat (beef, canned)    200 G      1  2021  5550.3789\n",
       "30705  Nabatiyeh  Meat (beef, canned)    200 G      2  2021  5601.7328\n",
       "30706  Nabatiyeh  Meat (beef, canned)    200 G      3  2021  6295.1187\n",
       "30707  Nabatiyeh  Meat (beef, canned)    200 G      4  2021  7875.8225\n",
       "30708  Nabatiyeh  Meat (beef, canned)    200 G      5  2021  7177.0370\n",
       "\n",
       "[1489 rows x 6 columns]"
      ]
     },
     "execution_count": 26,
     "metadata": {},
     "output_type": "execute_result"
    }
   ],
   "source": [
    "# Beef\n",
    "\n",
    "meat_b = lebanon[lebanon['commodity'] == 'Meat (beef, canned)']\n",
    "meat_b"
   ]
  },
  {
   "cell_type": "code",
   "execution_count": 27,
   "id": "0e1ce507",
   "metadata": {},
   "outputs": [
    {
     "data": {
      "text/html": [
       "<div>\n",
       "<style scoped>\n",
       "    .dataframe tbody tr th:only-of-type {\n",
       "        vertical-align: middle;\n",
       "    }\n",
       "\n",
       "    .dataframe tbody tr th {\n",
       "        vertical-align: top;\n",
       "    }\n",
       "\n",
       "    .dataframe thead th {\n",
       "        text-align: right;\n",
       "    }\n",
       "</style>\n",
       "<table border=\"1\" class=\"dataframe\">\n",
       "  <thead>\n",
       "    <tr style=\"text-align: right;\">\n",
       "      <th></th>\n",
       "      <th>city</th>\n",
       "      <th>commodity</th>\n",
       "      <th>quantity</th>\n",
       "      <th>month</th>\n",
       "      <th>year</th>\n",
       "      <th>price</th>\n",
       "    </tr>\n",
       "  </thead>\n",
       "  <tbody>\n",
       "    <tr>\n",
       "      <th>1019</th>\n",
       "      <td>Baalbeck</td>\n",
       "      <td>Sugar (white)</td>\n",
       "      <td>KG</td>\n",
       "      <td>1</td>\n",
       "      <td>2016</td>\n",
       "      <td>928.4286</td>\n",
       "    </tr>\n",
       "    <tr>\n",
       "      <th>1020</th>\n",
       "      <td>Baalbeck</td>\n",
       "      <td>Sugar (white)</td>\n",
       "      <td>KG</td>\n",
       "      <td>2</td>\n",
       "      <td>2016</td>\n",
       "      <td>943.7500</td>\n",
       "    </tr>\n",
       "    <tr>\n",
       "      <th>1021</th>\n",
       "      <td>Baalbeck</td>\n",
       "      <td>Sugar (white)</td>\n",
       "      <td>KG</td>\n",
       "      <td>3</td>\n",
       "      <td>2016</td>\n",
       "      <td>931.8182</td>\n",
       "    </tr>\n",
       "    <tr>\n",
       "      <th>1022</th>\n",
       "      <td>Baalbeck</td>\n",
       "      <td>Sugar (white)</td>\n",
       "      <td>KG</td>\n",
       "      <td>4</td>\n",
       "      <td>2016</td>\n",
       "      <td>927.1818</td>\n",
       "    </tr>\n",
       "    <tr>\n",
       "      <th>1023</th>\n",
       "      <td>Baalbeck</td>\n",
       "      <td>Sugar (white)</td>\n",
       "      <td>KG</td>\n",
       "      <td>5</td>\n",
       "      <td>2016</td>\n",
       "      <td>954.0833</td>\n",
       "    </tr>\n",
       "    <tr>\n",
       "      <th>...</th>\n",
       "      <td>...</td>\n",
       "      <td>...</td>\n",
       "      <td>...</td>\n",
       "      <td>...</td>\n",
       "      <td>...</td>\n",
       "      <td>...</td>\n",
       "    </tr>\n",
       "    <tr>\n",
       "      <th>30890</th>\n",
       "      <td>Nabatiyeh</td>\n",
       "      <td>Sugar (white)</td>\n",
       "      <td>KG</td>\n",
       "      <td>1</td>\n",
       "      <td>2021</td>\n",
       "      <td>4152.5662</td>\n",
       "    </tr>\n",
       "    <tr>\n",
       "      <th>30891</th>\n",
       "      <td>Nabatiyeh</td>\n",
       "      <td>Sugar (white)</td>\n",
       "      <td>KG</td>\n",
       "      <td>2</td>\n",
       "      <td>2021</td>\n",
       "      <td>4297.9446</td>\n",
       "    </tr>\n",
       "    <tr>\n",
       "      <th>30892</th>\n",
       "      <td>Nabatiyeh</td>\n",
       "      <td>Sugar (white)</td>\n",
       "      <td>KG</td>\n",
       "      <td>3</td>\n",
       "      <td>2021</td>\n",
       "      <td>5170.0793</td>\n",
       "    </tr>\n",
       "    <tr>\n",
       "      <th>30893</th>\n",
       "      <td>Nabatiyeh</td>\n",
       "      <td>Sugar (white)</td>\n",
       "      <td>KG</td>\n",
       "      <td>4</td>\n",
       "      <td>2021</td>\n",
       "      <td>34656.5339</td>\n",
       "    </tr>\n",
       "    <tr>\n",
       "      <th>30894</th>\n",
       "      <td>Nabatiyeh</td>\n",
       "      <td>Sugar (white)</td>\n",
       "      <td>KG</td>\n",
       "      <td>5</td>\n",
       "      <td>2021</td>\n",
       "      <td>8416.6046</td>\n",
       "    </tr>\n",
       "  </tbody>\n",
       "</table>\n",
       "<p>1446 rows × 6 columns</p>\n",
       "</div>"
      ],
      "text/plain": [
       "            city      commodity quantity  month  year       price\n",
       "1019    Baalbeck  Sugar (white)       KG      1  2016    928.4286\n",
       "1020    Baalbeck  Sugar (white)       KG      2  2016    943.7500\n",
       "1021    Baalbeck  Sugar (white)       KG      3  2016    931.8182\n",
       "1022    Baalbeck  Sugar (white)       KG      4  2016    927.1818\n",
       "1023    Baalbeck  Sugar (white)       KG      5  2016    954.0833\n",
       "...          ...            ...      ...    ...   ...         ...\n",
       "30890  Nabatiyeh  Sugar (white)       KG      1  2021   4152.5662\n",
       "30891  Nabatiyeh  Sugar (white)       KG      2  2021   4297.9446\n",
       "30892  Nabatiyeh  Sugar (white)       KG      3  2021   5170.0793\n",
       "30893  Nabatiyeh  Sugar (white)       KG      4  2021  34656.5339\n",
       "30894  Nabatiyeh  Sugar (white)       KG      5  2021   8416.6046\n",
       "\n",
       "[1446 rows x 6 columns]"
      ]
     },
     "execution_count": 27,
     "metadata": {},
     "output_type": "execute_result"
    }
   ],
   "source": [
    "# Sugar\n",
    "\n",
    "sugar = lebanon[lebanon['commodity'] == 'Sugar (white)']\n",
    "sugar"
   ]
  },
  {
   "cell_type": "code",
   "execution_count": 28,
   "id": "b13e30ba",
   "metadata": {},
   "outputs": [
    {
     "data": {
      "text/html": [
       "<div>\n",
       "<style scoped>\n",
       "    .dataframe tbody tr th:only-of-type {\n",
       "        vertical-align: middle;\n",
       "    }\n",
       "\n",
       "    .dataframe tbody tr th {\n",
       "        vertical-align: top;\n",
       "    }\n",
       "\n",
       "    .dataframe thead th {\n",
       "        text-align: right;\n",
       "    }\n",
       "</style>\n",
       "<table border=\"1\" class=\"dataframe\">\n",
       "  <thead>\n",
       "    <tr style=\"text-align: right;\">\n",
       "      <th></th>\n",
       "      <th>city</th>\n",
       "      <th>commodity</th>\n",
       "      <th>quantity</th>\n",
       "      <th>month</th>\n",
       "      <th>year</th>\n",
       "      <th>price</th>\n",
       "    </tr>\n",
       "  </thead>\n",
       "  <tbody>\n",
       "    <tr>\n",
       "      <th>316</th>\n",
       "      <td>Baalbeck</td>\n",
       "      <td>Salt</td>\n",
       "      <td>KG</td>\n",
       "      <td>1</td>\n",
       "      <td>2016</td>\n",
       "      <td>482.1429</td>\n",
       "    </tr>\n",
       "    <tr>\n",
       "      <th>317</th>\n",
       "      <td>Baalbeck</td>\n",
       "      <td>Salt</td>\n",
       "      <td>KG</td>\n",
       "      <td>2</td>\n",
       "      <td>2016</td>\n",
       "      <td>490.6250</td>\n",
       "    </tr>\n",
       "    <tr>\n",
       "      <th>318</th>\n",
       "      <td>Baalbeck</td>\n",
       "      <td>Salt</td>\n",
       "      <td>KG</td>\n",
       "      <td>3</td>\n",
       "      <td>2016</td>\n",
       "      <td>443.1818</td>\n",
       "    </tr>\n",
       "    <tr>\n",
       "      <th>319</th>\n",
       "      <td>Baalbeck</td>\n",
       "      <td>Salt</td>\n",
       "      <td>KG</td>\n",
       "      <td>4</td>\n",
       "      <td>2016</td>\n",
       "      <td>538.9091</td>\n",
       "    </tr>\n",
       "    <tr>\n",
       "      <th>320</th>\n",
       "      <td>Baalbeck</td>\n",
       "      <td>Salt</td>\n",
       "      <td>KG</td>\n",
       "      <td>5</td>\n",
       "      <td>2016</td>\n",
       "      <td>485.4167</td>\n",
       "    </tr>\n",
       "    <tr>\n",
       "      <th>...</th>\n",
       "      <td>...</td>\n",
       "      <td>...</td>\n",
       "      <td>...</td>\n",
       "      <td>...</td>\n",
       "      <td>...</td>\n",
       "      <td>...</td>\n",
       "    </tr>\n",
       "    <tr>\n",
       "      <th>30277</th>\n",
       "      <td>Nabatiyeh</td>\n",
       "      <td>Salt</td>\n",
       "      <td>KG</td>\n",
       "      <td>12</td>\n",
       "      <td>2020</td>\n",
       "      <td>2269.0000</td>\n",
       "    </tr>\n",
       "    <tr>\n",
       "      <th>30278</th>\n",
       "      <td>Nabatiyeh</td>\n",
       "      <td>Salt</td>\n",
       "      <td>KG</td>\n",
       "      <td>1</td>\n",
       "      <td>2021</td>\n",
       "      <td>1500.0000</td>\n",
       "    </tr>\n",
       "    <tr>\n",
       "      <th>30279</th>\n",
       "      <td>Nabatiyeh</td>\n",
       "      <td>Salt</td>\n",
       "      <td>KG</td>\n",
       "      <td>3</td>\n",
       "      <td>2021</td>\n",
       "      <td>4616.6667</td>\n",
       "    </tr>\n",
       "    <tr>\n",
       "      <th>30280</th>\n",
       "      <td>Nabatiyeh</td>\n",
       "      <td>Salt</td>\n",
       "      <td>KG</td>\n",
       "      <td>4</td>\n",
       "      <td>2021</td>\n",
       "      <td>5000.0000</td>\n",
       "    </tr>\n",
       "    <tr>\n",
       "      <th>30281</th>\n",
       "      <td>Nabatiyeh</td>\n",
       "      <td>Salt</td>\n",
       "      <td>KG</td>\n",
       "      <td>5</td>\n",
       "      <td>2021</td>\n",
       "      <td>5000.0000</td>\n",
       "    </tr>\n",
       "  </tbody>\n",
       "</table>\n",
       "<p>1402 rows × 6 columns</p>\n",
       "</div>"
      ],
      "text/plain": [
       "            city commodity quantity  month  year      price\n",
       "316     Baalbeck      Salt       KG      1  2016   482.1429\n",
       "317     Baalbeck      Salt       KG      2  2016   490.6250\n",
       "318     Baalbeck      Salt       KG      3  2016   443.1818\n",
       "319     Baalbeck      Salt       KG      4  2016   538.9091\n",
       "320     Baalbeck      Salt       KG      5  2016   485.4167\n",
       "...          ...       ...      ...    ...   ...        ...\n",
       "30277  Nabatiyeh      Salt       KG     12  2020  2269.0000\n",
       "30278  Nabatiyeh      Salt       KG      1  2021  1500.0000\n",
       "30279  Nabatiyeh      Salt       KG      3  2021  4616.6667\n",
       "30280  Nabatiyeh      Salt       KG      4  2021  5000.0000\n",
       "30281  Nabatiyeh      Salt       KG      5  2021  5000.0000\n",
       "\n",
       "[1402 rows x 6 columns]"
      ]
     },
     "execution_count": 28,
     "metadata": {},
     "output_type": "execute_result"
    }
   ],
   "source": [
    "# Salt\n",
    "\n",
    "salt = lebanon[lebanon['commodity'] == 'Salt']\n",
    "salt"
   ]
  },
  {
   "cell_type": "markdown",
   "id": "544750fb",
   "metadata": {},
   "source": [
    "Since there are differing number of entries for different commodities, we can have difficulty when visualizing and correlating in between them. In such cases, we will create new variables."
   ]
  },
  {
   "cell_type": "markdown",
   "id": "79d48e4b",
   "metadata": {},
   "source": [
    "Now, after we set the ground for analysis preparing the data, we will proceed to statistical analysis."
   ]
  },
  {
   "cell_type": "markdown",
   "id": "d40e4ba1",
   "metadata": {},
   "source": [
    "### Summary Statistics for each variable that are used for analysis"
   ]
  },
  {
   "cell_type": "code",
   "execution_count": 29,
   "id": "ae255d31",
   "metadata": {
    "scrolled": true
   },
   "outputs": [
    {
     "data": {
      "text/html": [
       "<div>\n",
       "<style scoped>\n",
       "    .dataframe tbody tr th:only-of-type {\n",
       "        vertical-align: middle;\n",
       "    }\n",
       "\n",
       "    .dataframe tbody tr th {\n",
       "        vertical-align: top;\n",
       "    }\n",
       "\n",
       "    .dataframe thead th {\n",
       "        text-align: right;\n",
       "    }\n",
       "</style>\n",
       "<table border=\"1\" class=\"dataframe\">\n",
       "  <thead>\n",
       "    <tr style=\"text-align: right;\">\n",
       "      <th></th>\n",
       "      <th>month</th>\n",
       "      <th>year</th>\n",
       "      <th>price</th>\n",
       "    </tr>\n",
       "  </thead>\n",
       "  <tbody>\n",
       "    <tr>\n",
       "      <th>count</th>\n",
       "      <td>1307.000000</td>\n",
       "      <td>1307.000000</td>\n",
       "      <td>1307.000000</td>\n",
       "    </tr>\n",
       "    <tr>\n",
       "      <th>mean</th>\n",
       "      <td>6.120122</td>\n",
       "      <td>2018.800306</td>\n",
       "      <td>17506.732976</td>\n",
       "    </tr>\n",
       "    <tr>\n",
       "      <th>std</th>\n",
       "      <td>3.497334</td>\n",
       "      <td>1.280936</td>\n",
       "      <td>3623.658938</td>\n",
       "    </tr>\n",
       "    <tr>\n",
       "      <th>min</th>\n",
       "      <td>1.000000</td>\n",
       "      <td>2017.000000</td>\n",
       "      <td>9000.000000</td>\n",
       "    </tr>\n",
       "    <tr>\n",
       "      <th>25%</th>\n",
       "      <td>3.000000</td>\n",
       "      <td>2018.000000</td>\n",
       "      <td>15300.000000</td>\n",
       "    </tr>\n",
       "    <tr>\n",
       "      <th>50%</th>\n",
       "      <td>6.000000</td>\n",
       "      <td>2019.000000</td>\n",
       "      <td>17500.000000</td>\n",
       "    </tr>\n",
       "    <tr>\n",
       "      <th>75%</th>\n",
       "      <td>9.000000</td>\n",
       "      <td>2020.000000</td>\n",
       "      <td>19000.000000</td>\n",
       "    </tr>\n",
       "    <tr>\n",
       "      <th>max</th>\n",
       "      <td>12.000000</td>\n",
       "      <td>2021.000000</td>\n",
       "      <td>28600.000000</td>\n",
       "    </tr>\n",
       "  </tbody>\n",
       "</table>\n",
       "</div>"
      ],
      "text/plain": [
       "             month         year         price\n",
       "count  1307.000000  1307.000000   1307.000000\n",
       "mean      6.120122  2018.800306  17506.732976\n",
       "std       3.497334     1.280936   3623.658938\n",
       "min       1.000000  2017.000000   9000.000000\n",
       "25%       3.000000  2018.000000  15300.000000\n",
       "50%       6.000000  2019.000000  17500.000000\n",
       "75%       9.000000  2020.000000  19000.000000\n",
       "max      12.000000  2021.000000  28600.000000"
      ]
     },
     "execution_count": 29,
     "metadata": {},
     "output_type": "execute_result"
    }
   ],
   "source": [
    "# summary statistics for fuel\n",
    "\n",
    "fuel.describe()"
   ]
  },
  {
   "cell_type": "markdown",
   "id": "0cc88eab",
   "metadata": {},
   "source": [
    "Fuel price ranges from 9000 LBP to 28600 LBP. Standard deviation is relatively low, thus we expect to have a more stable graph for fuel. The maximum value is triple of the minimum value."
   ]
  },
  {
   "cell_type": "code",
   "execution_count": 30,
   "id": "d0ef4d55",
   "metadata": {},
   "outputs": [
    {
     "data": {
      "text/html": [
       "<div>\n",
       "<style scoped>\n",
       "    .dataframe tbody tr th:only-of-type {\n",
       "        vertical-align: middle;\n",
       "    }\n",
       "\n",
       "    .dataframe tbody tr th {\n",
       "        vertical-align: top;\n",
       "    }\n",
       "\n",
       "    .dataframe thead th {\n",
       "        text-align: right;\n",
       "    }\n",
       "</style>\n",
       "<table border=\"1\" class=\"dataframe\">\n",
       "  <thead>\n",
       "    <tr style=\"text-align: right;\">\n",
       "      <th></th>\n",
       "      <th>month</th>\n",
       "      <th>year</th>\n",
       "      <th>price</th>\n",
       "    </tr>\n",
       "  </thead>\n",
       "  <tbody>\n",
       "    <tr>\n",
       "      <th>count</th>\n",
       "      <td>1379.000000</td>\n",
       "      <td>1379.000000</td>\n",
       "      <td>1379.000000</td>\n",
       "    </tr>\n",
       "    <tr>\n",
       "      <th>mean</th>\n",
       "      <td>6.153009</td>\n",
       "      <td>2018.301668</td>\n",
       "      <td>1604.501226</td>\n",
       "    </tr>\n",
       "    <tr>\n",
       "      <th>std</th>\n",
       "      <td>3.477140</td>\n",
       "      <td>1.520185</td>\n",
       "      <td>311.673105</td>\n",
       "    </tr>\n",
       "    <tr>\n",
       "      <th>min</th>\n",
       "      <td>1.000000</td>\n",
       "      <td>2016.000000</td>\n",
       "      <td>789.473700</td>\n",
       "    </tr>\n",
       "    <tr>\n",
       "      <th>25%</th>\n",
       "      <td>3.000000</td>\n",
       "      <td>2017.000000</td>\n",
       "      <td>1458.000000</td>\n",
       "    </tr>\n",
       "    <tr>\n",
       "      <th>50%</th>\n",
       "      <td>6.000000</td>\n",
       "      <td>2018.000000</td>\n",
       "      <td>1500.000000</td>\n",
       "    </tr>\n",
       "    <tr>\n",
       "      <th>75%</th>\n",
       "      <td>9.000000</td>\n",
       "      <td>2020.000000</td>\n",
       "      <td>1526.315800</td>\n",
       "    </tr>\n",
       "    <tr>\n",
       "      <th>max</th>\n",
       "      <td>12.000000</td>\n",
       "      <td>2021.000000</td>\n",
       "      <td>2750.000100</td>\n",
       "    </tr>\n",
       "  </tbody>\n",
       "</table>\n",
       "</div>"
      ],
      "text/plain": [
       "             month         year        price\n",
       "count  1379.000000  1379.000000  1379.000000\n",
       "mean      6.153009  2018.301668  1604.501226\n",
       "std       3.477140     1.520185   311.673105\n",
       "min       1.000000  2016.000000   789.473700\n",
       "25%       3.000000  2017.000000  1458.000000\n",
       "50%       6.000000  2018.000000  1500.000000\n",
       "75%       9.000000  2020.000000  1526.315800\n",
       "max      12.000000  2021.000000  2750.000100"
      ]
     },
     "execution_count": 30,
     "metadata": {},
     "output_type": "execute_result"
    }
   ],
   "source": [
    "# summary statistics for bread\n",
    "\n",
    "bread.describe()"
   ]
  },
  {
   "cell_type": "markdown",
   "id": "d9be8d08",
   "metadata": {},
   "source": [
    "Bread price ranges from 789 LBP to 27500 LBP. Standard deviation is relatively low, thus we expect to have a more stable graph for bread. The maximum value is approximately four times higher than the minimum."
   ]
  },
  {
   "cell_type": "code",
   "execution_count": 31,
   "id": "653f5279",
   "metadata": {
    "scrolled": true
   },
   "outputs": [
    {
     "data": {
      "text/html": [
       "<div>\n",
       "<style scoped>\n",
       "    .dataframe tbody tr th:only-of-type {\n",
       "        vertical-align: middle;\n",
       "    }\n",
       "\n",
       "    .dataframe tbody tr th {\n",
       "        vertical-align: top;\n",
       "    }\n",
       "\n",
       "    .dataframe thead th {\n",
       "        text-align: right;\n",
       "    }\n",
       "</style>\n",
       "<table border=\"1\" class=\"dataframe\">\n",
       "  <thead>\n",
       "    <tr style=\"text-align: right;\">\n",
       "      <th></th>\n",
       "      <th>month</th>\n",
       "      <th>year</th>\n",
       "      <th>price</th>\n",
       "    </tr>\n",
       "  </thead>\n",
       "  <tbody>\n",
       "    <tr>\n",
       "      <th>count</th>\n",
       "      <td>930.000000</td>\n",
       "      <td>930.000000</td>\n",
       "      <td>930.000000</td>\n",
       "    </tr>\n",
       "    <tr>\n",
       "      <th>mean</th>\n",
       "      <td>5.849462</td>\n",
       "      <td>2018.722581</td>\n",
       "      <td>24933.909652</td>\n",
       "    </tr>\n",
       "    <tr>\n",
       "      <th>std</th>\n",
       "      <td>3.507784</td>\n",
       "      <td>1.508650</td>\n",
       "      <td>26785.173568</td>\n",
       "    </tr>\n",
       "    <tr>\n",
       "      <th>min</th>\n",
       "      <td>1.000000</td>\n",
       "      <td>2016.000000</td>\n",
       "      <td>3250.000000</td>\n",
       "    </tr>\n",
       "    <tr>\n",
       "      <th>25%</th>\n",
       "      <td>3.000000</td>\n",
       "      <td>2017.000000</td>\n",
       "      <td>10493.000000</td>\n",
       "    </tr>\n",
       "    <tr>\n",
       "      <th>50%</th>\n",
       "      <td>5.000000</td>\n",
       "      <td>2019.000000</td>\n",
       "      <td>11000.000000</td>\n",
       "    </tr>\n",
       "    <tr>\n",
       "      <th>75%</th>\n",
       "      <td>9.000000</td>\n",
       "      <td>2020.000000</td>\n",
       "      <td>26965.000000</td>\n",
       "    </tr>\n",
       "    <tr>\n",
       "      <th>max</th>\n",
       "      <td>12.000000</td>\n",
       "      <td>2021.000000</td>\n",
       "      <td>139093.837200</td>\n",
       "    </tr>\n",
       "  </tbody>\n",
       "</table>\n",
       "</div>"
      ],
      "text/plain": [
       "            month         year          price\n",
       "count  930.000000   930.000000     930.000000\n",
       "mean     5.849462  2018.722581   24933.909652\n",
       "std      3.507784     1.508650   26785.173568\n",
       "min      1.000000  2016.000000    3250.000000\n",
       "25%      3.000000  2017.000000   10493.000000\n",
       "50%      5.000000  2019.000000   11000.000000\n",
       "75%      9.000000  2020.000000   26965.000000\n",
       "max     12.000000  2021.000000  139093.837200"
      ]
     },
     "execution_count": 31,
     "metadata": {},
     "output_type": "execute_result"
    }
   ],
   "source": [
    "# summary statistics for sunflower oil\n",
    "\n",
    "oil_s.describe()"
   ]
  },
  {
   "cell_type": "markdown",
   "id": "cf51507d",
   "metadata": {},
   "source": [
    "Sunflower oil price ranges from 3250 LBP to 139093 LBP. Standard deviation is very high, even higher than mean value. We do not expect to have a more stable graph for sunflower oil. The maximum value is five times higher than the minimum value."
   ]
  },
  {
   "cell_type": "code",
   "execution_count": 32,
   "id": "858fb6dd",
   "metadata": {},
   "outputs": [
    {
     "data": {
      "text/html": [
       "<div>\n",
       "<style scoped>\n",
       "    .dataframe tbody tr th:only-of-type {\n",
       "        vertical-align: middle;\n",
       "    }\n",
       "\n",
       "    .dataframe tbody tr th {\n",
       "        vertical-align: top;\n",
       "    }\n",
       "\n",
       "    .dataframe thead th {\n",
       "        text-align: right;\n",
       "    }\n",
       "</style>\n",
       "<table border=\"1\" class=\"dataframe\">\n",
       "  <thead>\n",
       "    <tr style=\"text-align: right;\">\n",
       "      <th></th>\n",
       "      <th>month</th>\n",
       "      <th>year</th>\n",
       "      <th>price</th>\n",
       "    </tr>\n",
       "  </thead>\n",
       "  <tbody>\n",
       "    <tr>\n",
       "      <th>count</th>\n",
       "      <td>1389.000000</td>\n",
       "      <td>1389.000000</td>\n",
       "      <td>1389.000000</td>\n",
       "    </tr>\n",
       "    <tr>\n",
       "      <th>mean</th>\n",
       "      <td>6.202304</td>\n",
       "      <td>2018.336213</td>\n",
       "      <td>7986.076402</td>\n",
       "    </tr>\n",
       "    <tr>\n",
       "      <th>std</th>\n",
       "      <td>3.483819</td>\n",
       "      <td>1.544253</td>\n",
       "      <td>5897.771427</td>\n",
       "    </tr>\n",
       "    <tr>\n",
       "      <th>min</th>\n",
       "      <td>1.000000</td>\n",
       "      <td>2016.000000</td>\n",
       "      <td>500.000000</td>\n",
       "    </tr>\n",
       "    <tr>\n",
       "      <th>25%</th>\n",
       "      <td>3.000000</td>\n",
       "      <td>2017.000000</td>\n",
       "      <td>4904.000000</td>\n",
       "    </tr>\n",
       "    <tr>\n",
       "      <th>50%</th>\n",
       "      <td>6.000000</td>\n",
       "      <td>2018.000000</td>\n",
       "      <td>5625.000000</td>\n",
       "    </tr>\n",
       "    <tr>\n",
       "      <th>75%</th>\n",
       "      <td>9.000000</td>\n",
       "      <td>2020.000000</td>\n",
       "      <td>7146.000000</td>\n",
       "    </tr>\n",
       "    <tr>\n",
       "      <th>max</th>\n",
       "      <td>12.000000</td>\n",
       "      <td>2021.000000</td>\n",
       "      <td>28900.000000</td>\n",
       "    </tr>\n",
       "  </tbody>\n",
       "</table>\n",
       "</div>"
      ],
      "text/plain": [
       "             month         year         price\n",
       "count  1389.000000  1389.000000   1389.000000\n",
       "mean      6.202304  2018.336213   7986.076402\n",
       "std       3.483819     1.544253   5897.771427\n",
       "min       1.000000  2016.000000    500.000000\n",
       "25%       3.000000  2017.000000   4904.000000\n",
       "50%       6.000000  2018.000000   5625.000000\n",
       "75%       9.000000  2020.000000   7146.000000\n",
       "max      12.000000  2021.000000  28900.000000"
      ]
     },
     "execution_count": 32,
     "metadata": {},
     "output_type": "execute_result"
    }
   ],
   "source": [
    "# summary statistics for egg\n",
    "\n",
    "egg.describe()"
   ]
  },
  {
   "cell_type": "markdown",
   "id": "5d43e484",
   "metadata": {},
   "source": [
    "Egg price ranges from 500 LBP to 28900 LBP. Standard deviation is relatively high, thus we expect to have a more unstable graph for the egg. The maximum value is 50 times higher than the minimum value."
   ]
  },
  {
   "cell_type": "code",
   "execution_count": 33,
   "id": "630d226f",
   "metadata": {},
   "outputs": [
    {
     "data": {
      "text/html": [
       "<div>\n",
       "<style scoped>\n",
       "    .dataframe tbody tr th:only-of-type {\n",
       "        vertical-align: middle;\n",
       "    }\n",
       "\n",
       "    .dataframe tbody tr th {\n",
       "        vertical-align: top;\n",
       "    }\n",
       "\n",
       "    .dataframe thead th {\n",
       "        text-align: right;\n",
       "    }\n",
       "</style>\n",
       "<table border=\"1\" class=\"dataframe\">\n",
       "  <thead>\n",
       "    <tr style=\"text-align: right;\">\n",
       "      <th></th>\n",
       "      <th>month</th>\n",
       "      <th>year</th>\n",
       "      <th>price</th>\n",
       "    </tr>\n",
       "  </thead>\n",
       "  <tbody>\n",
       "    <tr>\n",
       "      <th>count</th>\n",
       "      <td>1257.000000</td>\n",
       "      <td>1257.000000</td>\n",
       "      <td>1257.000000</td>\n",
       "    </tr>\n",
       "    <tr>\n",
       "      <th>mean</th>\n",
       "      <td>6.178998</td>\n",
       "      <td>2018.298329</td>\n",
       "      <td>3519.045277</td>\n",
       "    </tr>\n",
       "    <tr>\n",
       "      <th>std</th>\n",
       "      <td>3.490744</td>\n",
       "      <td>1.572334</td>\n",
       "      <td>1874.580561</td>\n",
       "    </tr>\n",
       "    <tr>\n",
       "      <th>min</th>\n",
       "      <td>1.000000</td>\n",
       "      <td>2016.000000</td>\n",
       "      <td>1000.000000</td>\n",
       "    </tr>\n",
       "    <tr>\n",
       "      <th>25%</th>\n",
       "      <td>3.000000</td>\n",
       "      <td>2017.000000</td>\n",
       "      <td>2500.000000</td>\n",
       "    </tr>\n",
       "    <tr>\n",
       "      <th>50%</th>\n",
       "      <td>6.000000</td>\n",
       "      <td>2018.000000</td>\n",
       "      <td>2708.000000</td>\n",
       "    </tr>\n",
       "    <tr>\n",
       "      <th>75%</th>\n",
       "      <td>9.000000</td>\n",
       "      <td>2020.000000</td>\n",
       "      <td>3750.000000</td>\n",
       "    </tr>\n",
       "    <tr>\n",
       "      <th>max</th>\n",
       "      <td>12.000000</td>\n",
       "      <td>2021.000000</td>\n",
       "      <td>28124.995000</td>\n",
       "    </tr>\n",
       "  </tbody>\n",
       "</table>\n",
       "</div>"
      ],
      "text/plain": [
       "             month         year         price\n",
       "count  1257.000000  1257.000000   1257.000000\n",
       "mean      6.178998  2018.298329   3519.045277\n",
       "std       3.490744     1.572334   1874.580561\n",
       "min       1.000000  2016.000000   1000.000000\n",
       "25%       3.000000  2017.000000   2500.000000\n",
       "50%       6.000000  2018.000000   2708.000000\n",
       "75%       9.000000  2020.000000   3750.000000\n",
       "max      12.000000  2021.000000  28124.995000"
      ]
     },
     "execution_count": 33,
     "metadata": {},
     "output_type": "execute_result"
    }
   ],
   "source": [
    "# summary statistics for fish\n",
    "\n",
    "fish.describe()"
   ]
  },
  {
   "cell_type": "markdown",
   "id": "250fb426",
   "metadata": {},
   "source": [
    "Fish price ranges from 1000 LBP to 28124 LBP. Standard deviation is relatively high, half of the mean value. We expect to have a more dynamic graph for the fish. The maximum value is 28 time higher than the minimum value."
   ]
  },
  {
   "cell_type": "code",
   "execution_count": 34,
   "id": "96d5fd6c",
   "metadata": {},
   "outputs": [
    {
     "data": {
      "text/html": [
       "<div>\n",
       "<style scoped>\n",
       "    .dataframe tbody tr th:only-of-type {\n",
       "        vertical-align: middle;\n",
       "    }\n",
       "\n",
       "    .dataframe tbody tr th {\n",
       "        vertical-align: top;\n",
       "    }\n",
       "\n",
       "    .dataframe thead th {\n",
       "        text-align: right;\n",
       "    }\n",
       "</style>\n",
       "<table border=\"1\" class=\"dataframe\">\n",
       "  <thead>\n",
       "    <tr style=\"text-align: right;\">\n",
       "      <th></th>\n",
       "      <th>month</th>\n",
       "      <th>year</th>\n",
       "      <th>price</th>\n",
       "    </tr>\n",
       "  </thead>\n",
       "  <tbody>\n",
       "    <tr>\n",
       "      <th>count</th>\n",
       "      <td>1489.000000</td>\n",
       "      <td>1489.000000</td>\n",
       "      <td>1489.000000</td>\n",
       "    </tr>\n",
       "    <tr>\n",
       "      <th>mean</th>\n",
       "      <td>6.203492</td>\n",
       "      <td>2018.350571</td>\n",
       "      <td>2728.050992</td>\n",
       "    </tr>\n",
       "    <tr>\n",
       "      <th>std</th>\n",
       "      <td>3.493402</td>\n",
       "      <td>1.515379</td>\n",
       "      <td>1773.905955</td>\n",
       "    </tr>\n",
       "    <tr>\n",
       "      <th>min</th>\n",
       "      <td>1.000000</td>\n",
       "      <td>2016.000000</td>\n",
       "      <td>1000.000000</td>\n",
       "    </tr>\n",
       "    <tr>\n",
       "      <th>25%</th>\n",
       "      <td>3.000000</td>\n",
       "      <td>2017.000000</td>\n",
       "      <td>1813.000000</td>\n",
       "    </tr>\n",
       "    <tr>\n",
       "      <th>50%</th>\n",
       "      <td>6.000000</td>\n",
       "      <td>2018.000000</td>\n",
       "      <td>1917.000000</td>\n",
       "    </tr>\n",
       "    <tr>\n",
       "      <th>75%</th>\n",
       "      <td>9.000000</td>\n",
       "      <td>2020.000000</td>\n",
       "      <td>2452.000000</td>\n",
       "    </tr>\n",
       "    <tr>\n",
       "      <th>max</th>\n",
       "      <td>12.000000</td>\n",
       "      <td>2021.000000</td>\n",
       "      <td>12291.363600</td>\n",
       "    </tr>\n",
       "  </tbody>\n",
       "</table>\n",
       "</div>"
      ],
      "text/plain": [
       "             month         year         price\n",
       "count  1489.000000  1489.000000   1489.000000\n",
       "mean      6.203492  2018.350571   2728.050992\n",
       "std       3.493402     1.515379   1773.905955\n",
       "min       1.000000  2016.000000   1000.000000\n",
       "25%       3.000000  2017.000000   1813.000000\n",
       "50%       6.000000  2018.000000   1917.000000\n",
       "75%       9.000000  2020.000000   2452.000000\n",
       "max      12.000000  2021.000000  12291.363600"
      ]
     },
     "execution_count": 34,
     "metadata": {},
     "output_type": "execute_result"
    }
   ],
   "source": [
    "# summary statistics for beef\n",
    "\n",
    "meat_b.describe()"
   ]
  },
  {
   "cell_type": "markdown",
   "id": "b54dbe0d",
   "metadata": {},
   "source": [
    "Beef (meat) price ranges from 1000 LBP to 12291 LBP. Standard deviation is relatively high, however, the first three quartiles are close to each other. This means that we have many outliers. We can expect to have a relatively stable graph for the beef. The maximum value is 5 times higher than the minimum value."
   ]
  },
  {
   "cell_type": "code",
   "execution_count": 35,
   "id": "466f16c8",
   "metadata": {},
   "outputs": [
    {
     "data": {
      "text/html": [
       "<div>\n",
       "<style scoped>\n",
       "    .dataframe tbody tr th:only-of-type {\n",
       "        vertical-align: middle;\n",
       "    }\n",
       "\n",
       "    .dataframe tbody tr th {\n",
       "        vertical-align: top;\n",
       "    }\n",
       "\n",
       "    .dataframe thead th {\n",
       "        text-align: right;\n",
       "    }\n",
       "</style>\n",
       "<table border=\"1\" class=\"dataframe\">\n",
       "  <thead>\n",
       "    <tr style=\"text-align: right;\">\n",
       "      <th></th>\n",
       "      <th>month</th>\n",
       "      <th>year</th>\n",
       "      <th>price</th>\n",
       "    </tr>\n",
       "  </thead>\n",
       "  <tbody>\n",
       "    <tr>\n",
       "      <th>count</th>\n",
       "      <td>1446.000000</td>\n",
       "      <td>1446.000000</td>\n",
       "      <td>1446.000000</td>\n",
       "    </tr>\n",
       "    <tr>\n",
       "      <th>mean</th>\n",
       "      <td>6.208160</td>\n",
       "      <td>2018.356846</td>\n",
       "      <td>2345.140996</td>\n",
       "    </tr>\n",
       "    <tr>\n",
       "      <th>std</th>\n",
       "      <td>3.483857</td>\n",
       "      <td>1.521215</td>\n",
       "      <td>4345.746983</td>\n",
       "    </tr>\n",
       "    <tr>\n",
       "      <th>min</th>\n",
       "      <td>1.000000</td>\n",
       "      <td>2016.000000</td>\n",
       "      <td>749.333400</td>\n",
       "    </tr>\n",
       "    <tr>\n",
       "      <th>25%</th>\n",
       "      <td>3.000000</td>\n",
       "      <td>2017.000000</td>\n",
       "      <td>1140.000000</td>\n",
       "    </tr>\n",
       "    <tr>\n",
       "      <th>50%</th>\n",
       "      <td>6.000000</td>\n",
       "      <td>2018.000000</td>\n",
       "      <td>1301.000000</td>\n",
       "    </tr>\n",
       "    <tr>\n",
       "      <th>75%</th>\n",
       "      <td>9.000000</td>\n",
       "      <td>2020.000000</td>\n",
       "      <td>1755.250000</td>\n",
       "    </tr>\n",
       "    <tr>\n",
       "      <th>max</th>\n",
       "      <td>12.000000</td>\n",
       "      <td>2021.000000</td>\n",
       "      <td>49312.500000</td>\n",
       "    </tr>\n",
       "  </tbody>\n",
       "</table>\n",
       "</div>"
      ],
      "text/plain": [
       "             month         year         price\n",
       "count  1446.000000  1446.000000   1446.000000\n",
       "mean      6.208160  2018.356846   2345.140996\n",
       "std       3.483857     1.521215   4345.746983\n",
       "min       1.000000  2016.000000    749.333400\n",
       "25%       3.000000  2017.000000   1140.000000\n",
       "50%       6.000000  2018.000000   1301.000000\n",
       "75%       9.000000  2020.000000   1755.250000\n",
       "max      12.000000  2021.000000  49312.500000"
      ]
     },
     "execution_count": 35,
     "metadata": {},
     "output_type": "execute_result"
    }
   ],
   "source": [
    "# summary statistics for sugar\n",
    "\n",
    "sugar.describe()"
   ]
  },
  {
   "cell_type": "markdown",
   "id": "cf5b5218",
   "metadata": {},
   "source": [
    "Sugar price ranges from 750 LBP to 49000 LBP. Standard deviation is very high, almost double of the mean value. However, the first three quartiles are quite close to each other. This means that we have many outliers. The maximum value is 6 times higher than the minimum. We can expect a more dynamic graph."
   ]
  },
  {
   "cell_type": "code",
   "execution_count": 36,
   "id": "05b64909",
   "metadata": {},
   "outputs": [
    {
     "data": {
      "text/html": [
       "<div>\n",
       "<style scoped>\n",
       "    .dataframe tbody tr th:only-of-type {\n",
       "        vertical-align: middle;\n",
       "    }\n",
       "\n",
       "    .dataframe tbody tr th {\n",
       "        vertical-align: top;\n",
       "    }\n",
       "\n",
       "    .dataframe thead th {\n",
       "        text-align: right;\n",
       "    }\n",
       "</style>\n",
       "<table border=\"1\" class=\"dataframe\">\n",
       "  <thead>\n",
       "    <tr style=\"text-align: right;\">\n",
       "      <th></th>\n",
       "      <th>month</th>\n",
       "      <th>year</th>\n",
       "      <th>price</th>\n",
       "    </tr>\n",
       "  </thead>\n",
       "  <tbody>\n",
       "    <tr>\n",
       "      <th>count</th>\n",
       "      <td>1402.000000</td>\n",
       "      <td>1402.000000</td>\n",
       "      <td>1402.000000</td>\n",
       "    </tr>\n",
       "    <tr>\n",
       "      <th>mean</th>\n",
       "      <td>6.282454</td>\n",
       "      <td>2018.323823</td>\n",
       "      <td>894.825077</td>\n",
       "    </tr>\n",
       "    <tr>\n",
       "      <th>std</th>\n",
       "      <td>3.479536</td>\n",
       "      <td>1.494454</td>\n",
       "      <td>721.184344</td>\n",
       "    </tr>\n",
       "    <tr>\n",
       "      <th>min</th>\n",
       "      <td>1.000000</td>\n",
       "      <td>2016.000000</td>\n",
       "      <td>250.000000</td>\n",
       "    </tr>\n",
       "    <tr>\n",
       "      <th>25%</th>\n",
       "      <td>3.000000</td>\n",
       "      <td>2017.000000</td>\n",
       "      <td>500.000000</td>\n",
       "    </tr>\n",
       "    <tr>\n",
       "      <th>50%</th>\n",
       "      <td>6.000000</td>\n",
       "      <td>2018.000000</td>\n",
       "      <td>626.500000</td>\n",
       "    </tr>\n",
       "    <tr>\n",
       "      <th>75%</th>\n",
       "      <td>9.000000</td>\n",
       "      <td>2020.000000</td>\n",
       "      <td>1074.500000</td>\n",
       "    </tr>\n",
       "    <tr>\n",
       "      <th>max</th>\n",
       "      <td>12.000000</td>\n",
       "      <td>2021.000000</td>\n",
       "      <td>10000.000000</td>\n",
       "    </tr>\n",
       "  </tbody>\n",
       "</table>\n",
       "</div>"
      ],
      "text/plain": [
       "             month         year         price\n",
       "count  1402.000000  1402.000000   1402.000000\n",
       "mean      6.282454  2018.323823    894.825077\n",
       "std       3.479536     1.494454    721.184344\n",
       "min       1.000000  2016.000000    250.000000\n",
       "25%       3.000000  2017.000000    500.000000\n",
       "50%       6.000000  2018.000000    626.500000\n",
       "75%       9.000000  2020.000000   1074.500000\n",
       "max      12.000000  2021.000000  10000.000000"
      ]
     },
     "execution_count": 36,
     "metadata": {},
     "output_type": "execute_result"
    }
   ],
   "source": [
    "# summary statistics for salt\n",
    "\n",
    "salt.describe()"
   ]
  },
  {
   "cell_type": "markdown",
   "id": "0c6763e4",
   "metadata": {},
   "source": [
    "Salt price ranges from 900 LBP to 10000 LBP. Standard deviation is very high, very close to the mean value. However, the first three quartiles are close to each other. This means that we have many outliers. The maximum value is 10 times higher than the minimum. We can expect a more dynamic graph."
   ]
  },
  {
   "cell_type": "markdown",
   "id": "4dd6bcd3",
   "metadata": {},
   "source": [
    "In general, summary statistics tell us we have very unstable food prices in Lebanon. Differences between minimum and maximum values are generally high, standard deviations are generally high. However, the first three quartiles are relatively close to each other. We can infer from this fact that prices went up in the last years. We will have a better understanding about how prices are distribute over commodties, years, months and locations."
   ]
  },
  {
   "cell_type": "markdown",
   "id": "163a3bc1",
   "metadata": {},
   "source": [
    "## Visualizations of the food prices"
   ]
  },
  {
   "cell_type": "markdown",
   "id": "a7012a83",
   "metadata": {},
   "source": [
    "In this part, we will visualize the food prices using both Matplotlib and Seaborn libraries. We will begin with yearly prices per selected commodity in order to see the 'big picture' in yearly trends."
   ]
  },
  {
   "cell_type": "markdown",
   "id": "f9061083",
   "metadata": {},
   "source": [
    "We will use groupby function to group the data in a way that it would give us the commodity prices in accordance with year. We will then plot each variable and organize the graph by adding labels and titles."
   ]
  },
  {
   "cell_type": "code",
   "execution_count": 37,
   "id": "1ba37279",
   "metadata": {
    "scrolled": false
   },
   "outputs": [
    {
     "data": {
      "image/png": "[encoded data removed]",
      "text/plain": [
       "<Figure size 1008x504 with 1 Axes>"
      ]
     },
     "metadata": {
      "needs_background": "light"
     },
     "output_type": "display_data"
    }
   ],
   "source": [
    "# line plot of yearly commodity prices for selected goods\n",
    "# matplotlib\n",
    "\n",
    "plt.figure(figsize=(14, 7)) # creating a figure\n",
    "\n",
    "# regrouping the data using groupby function, the plotting\n",
    "fuel.groupby(['year'])['price'].mean().plot(label='Fuel')\n",
    "meat_b.groupby(['year'])['price'].mean().plot(label='Meat')\n",
    "bread.groupby(['year'])['price'].mean().plot(label='Bread')\n",
    "egg.groupby(['year'])['price'].mean().plot(label='Egg')\n",
    "oil_s.groupby(['year'])['price'].mean().plot(label='Sunflower oil')\n",
    "sugar.groupby(['year'])['price'].mean().plot(label='Sugar')\n",
    "salt.groupby(['year'])['price'].mean().plot(label='Salt')\n",
    "\n",
    "# adding title and labels\n",
    "plt.title('Average commodity prices for selected goods over years')\n",
    "plt.xlabel('Year')\n",
    "plt.ylabel('Price')\n",
    "plt.legend()\n",
    "\n",
    "# showing the graph\n",
    "plt.show()"
   ]
  },
  {
   "cell_type": "code",
   "execution_count": 38,
   "id": "781e4a9d",
   "metadata": {},
   "outputs": [
    {
     "data": {
      "text/plain": [
       "[Text(0.5, 1.0, 'Average commodity prices for selected goods over years')]"
      ]
     },
     "execution_count": 38,
     "metadata": {},
     "output_type": "execute_result"
    },
    {
     "data": {
      "image/png": "[encoded data removed]",
      "text/plain": [
       "<Figure size 1008x576 with 1 Axes>"
      ]
     },
     "metadata": {
      "needs_background": "light"
     },
     "output_type": "display_data"
    }
   ],
   "source": [
    "# line plot of yearly commodity prices for selected goods\n",
    "# seaborn\n",
    "\n",
    "plt.figure(figsize=(14, 8)) # creating a figure using matplotlib\n",
    "\n",
    "# year and price per commodity using hue parameter, then set title\n",
    "sns.lineplot(data=lebanon_selected, x='year', y='price', hue='commodity').set(title= 'Average commodity prices for selected goods over years')"
   ]
  },
  {
   "cell_type": "markdown",
   "id": "c9c4d404",
   "metadata": {},
   "source": [
    "The graph clearly shows shows that food prices in the selected commodities starts to rise up in 2019. The prices of sunflower oil increase the most. Eggs and sugar come after sunflower oil. Salt and bread are the most stable products among the others. The increase in the prices is accelerated particularly after 2020 that must be related to the effects of the pandemic."
   ]
  },
  {
   "cell_type": "markdown",
   "id": "3620efd3",
   "metadata": {},
   "source": [
    "We carry on an analysis to see, over the time period, which month seem to have the highest average price for all commodities considered in the data set: "
   ]
  },
  {
   "cell_type": "code",
   "execution_count": 39,
   "id": "271ede28",
   "metadata": {},
   "outputs": [
    {
     "data": {
      "text/plain": [
       "month\n",
       "6     5475.662557\n",
       "7     5586.252786\n",
       "8     5709.923161\n",
       "9     5886.114363\n",
       "11    5963.748995\n",
       "10    6077.206528\n",
       "12    6219.660381\n",
       "2     6620.096132\n",
       "1     6652.769660\n",
       "3     7014.392187\n",
       "5     8208.171764\n",
       "4     9411.251294\n",
       "Name: price, dtype: float64"
      ]
     },
     "execution_count": 39,
     "metadata": {},
     "output_type": "execute_result"
    }
   ],
   "source": [
    "# on which months did the prices change most\n",
    "\n",
    "monthly_change = lebanon.groupby(['month'])['price'].mean()\n",
    "monthly_change.sort_values()\n"
   ]
  },
  {
   "cell_type": "code",
   "execution_count": 40,
   "id": "0e30e660",
   "metadata": {},
   "outputs": [],
   "source": [
    "monthly_change1 = monthly_change.reset_index()"
   ]
  },
  {
   "cell_type": "code",
   "execution_count": 41,
   "id": "b013a4bd",
   "metadata": {},
   "outputs": [
    {
     "data": {
      "text/html": [
       "<div>\n",
       "<style scoped>\n",
       "    .dataframe tbody tr th:only-of-type {\n",
       "        vertical-align: middle;\n",
       "    }\n",
       "\n",
       "    .dataframe tbody tr th {\n",
       "        vertical-align: top;\n",
       "    }\n",
       "\n",
       "    .dataframe thead th {\n",
       "        text-align: right;\n",
       "    }\n",
       "</style>\n",
       "<table border=\"1\" class=\"dataframe\">\n",
       "  <thead>\n",
       "    <tr style=\"text-align: right;\">\n",
       "      <th></th>\n",
       "      <th>month</th>\n",
       "      <th>price</th>\n",
       "    </tr>\n",
       "  </thead>\n",
       "  <tbody>\n",
       "    <tr>\n",
       "      <th>0</th>\n",
       "      <td>1</td>\n",
       "      <td>6652.769660</td>\n",
       "    </tr>\n",
       "    <tr>\n",
       "      <th>1</th>\n",
       "      <td>2</td>\n",
       "      <td>6620.096132</td>\n",
       "    </tr>\n",
       "    <tr>\n",
       "      <th>2</th>\n",
       "      <td>3</td>\n",
       "      <td>7014.392187</td>\n",
       "    </tr>\n",
       "    <tr>\n",
       "      <th>3</th>\n",
       "      <td>4</td>\n",
       "      <td>9411.251294</td>\n",
       "    </tr>\n",
       "    <tr>\n",
       "      <th>4</th>\n",
       "      <td>5</td>\n",
       "      <td>8208.171764</td>\n",
       "    </tr>\n",
       "    <tr>\n",
       "      <th>5</th>\n",
       "      <td>6</td>\n",
       "      <td>5475.662557</td>\n",
       "    </tr>\n",
       "    <tr>\n",
       "      <th>6</th>\n",
       "      <td>7</td>\n",
       "      <td>5586.252786</td>\n",
       "    </tr>\n",
       "    <tr>\n",
       "      <th>7</th>\n",
       "      <td>8</td>\n",
       "      <td>5709.923161</td>\n",
       "    </tr>\n",
       "    <tr>\n",
       "      <th>8</th>\n",
       "      <td>9</td>\n",
       "      <td>5886.114363</td>\n",
       "    </tr>\n",
       "    <tr>\n",
       "      <th>9</th>\n",
       "      <td>10</td>\n",
       "      <td>6077.206528</td>\n",
       "    </tr>\n",
       "    <tr>\n",
       "      <th>10</th>\n",
       "      <td>11</td>\n",
       "      <td>5963.748995</td>\n",
       "    </tr>\n",
       "    <tr>\n",
       "      <th>11</th>\n",
       "      <td>12</td>\n",
       "      <td>6219.660381</td>\n",
       "    </tr>\n",
       "  </tbody>\n",
       "</table>\n",
       "</div>"
      ],
      "text/plain": [
       "    month        price\n",
       "0       1  6652.769660\n",
       "1       2  6620.096132\n",
       "2       3  7014.392187\n",
       "3       4  9411.251294\n",
       "4       5  8208.171764\n",
       "5       6  5475.662557\n",
       "6       7  5586.252786\n",
       "7       8  5709.923161\n",
       "8       9  5886.114363\n",
       "9      10  6077.206528\n",
       "10     11  5963.748995\n",
       "11     12  6219.660381"
      ]
     },
     "execution_count": 41,
     "metadata": {},
     "output_type": "execute_result"
    }
   ],
   "source": [
    "monthly_change1"
   ]
  },
  {
   "cell_type": "code",
   "execution_count": 42,
   "id": "442414ef",
   "metadata": {},
   "outputs": [
    {
     "data": {
      "text/plain": [
       "array([ 1,  2,  3,  4,  5,  6,  7,  8,  9, 10, 11, 12], dtype=int64)"
      ]
     },
     "execution_count": 42,
     "metadata": {},
     "output_type": "execute_result"
    }
   ],
   "source": [
    "# creating months variable to use it in visualization\n",
    "\n",
    "months = lebanon['month'].unique()\n",
    "months"
   ]
  },
  {
   "cell_type": "code",
   "execution_count": 43,
   "id": "1d687262",
   "metadata": {},
   "outputs": [
    {
     "data": {
      "image/png": "[encoded data removed]",
      "text/plain": [
       "<Figure size 1008x360 with 1 Axes>"
      ]
     },
     "metadata": {
      "needs_background": "light"
     },
     "output_type": "display_data"
    }
   ],
   "source": [
    "# bar plot of monthly average prices with matplotlib\n",
    "\n",
    "plt.figure(figsize=(14, 5))\n",
    "plt.bar(months, monthly_change1['price'])\n",
    "\n",
    "plt.xlabel('Month')\n",
    "plt.ylabel('Price')\n",
    "plt.title('Monthly average prices')\n",
    "\n",
    "plt.show()"
   ]
  },
  {
   "cell_type": "code",
   "execution_count": 44,
   "id": "bd0cddad",
   "metadata": {},
   "outputs": [
    {
     "data": {
      "text/plain": [
       "<AxesSubplot:xlabel='month', ylabel='price'>"
      ]
     },
     "execution_count": 44,
     "metadata": {},
     "output_type": "execute_result"
    },
    {
     "data": {
      "image/png": "[encoded data removed]",
      "text/plain": [
       "<Figure size 432x288 with 1 Axes>"
      ]
     },
     "metadata": {
      "needs_background": "light"
     },
     "output_type": "display_data"
    }
   ],
   "source": [
    "# bar plot of monthly average prices with seaborn\n",
    "\n",
    "sns.barplot(data = monthly_change1, x = 'month', y = 'price')"
   ]
  },
  {
   "cell_type": "markdown",
   "id": "e01130b5",
   "metadata": {},
   "source": [
    "It seems like average prices are higher on **April and May** over the time period 2017 - 2021. Also, they tend to be lower on **Summer** compared to Winter. "
   ]
  },
  {
   "cell_type": "markdown",
   "id": "e130e428",
   "metadata": {},
   "source": [
    "Then, we take a look at the average yearly price for each commodity on the 2017 - 2021 time period. Prices are significantly increasing in **2020 and 2021 compared to 2019 and before**, where they were below 20,000 LBP."
   ]
  },
  {
   "cell_type": "code",
   "execution_count": 45,
   "id": "69b765c6",
   "metadata": {},
   "outputs": [
    {
     "data": {
      "image/png": "[encoded data removed]",
      "text/plain": [
       "<Figure size 1008x360 with 1 Axes>"
      ]
     },
     "metadata": {
      "needs_background": "light"
     },
     "output_type": "display_data"
    }
   ],
   "source": [
    "# bar plot of yearly commodity prices for selected goods\n",
    "\n",
    "plt.figure(figsize=(14, 5))\n",
    "plt.bar(fuel['year'], fuel['price'], color = 'blue', width = 0.25, label='Fuel')\n",
    "plt.bar(oil_s['year'] + 0.25, oil_s['price'], color = 'green', width = 0.25, label='Sunflower oil')\n",
    "plt.bar(bread['year'] + 0.50, bread['price'],  color = 'pink', width = 0.25, label = 'Bread')\n",
    "plt.bar(sugar['year'] + 0.75, sugar['price'], color='red', width = 0.25, label = 'Sugar')\n",
    "\n",
    "plt.xlabel('Year')\n",
    "plt.ylabel('Price')\n",
    "#plt.title()\n",
    "\n",
    "plt.legend()\n",
    "\n",
    "plt.show()"
   ]
  },
  {
   "cell_type": "code",
   "execution_count": 46,
   "id": "92df1991",
   "metadata": {},
   "outputs": [
    {
     "data": {
      "text/plain": [
       "Text(0.5, 1.0, 'Average commodity prices per year for selected goods')"
      ]
     },
     "execution_count": 46,
     "metadata": {},
     "output_type": "execute_result"
    },
    {
     "data": {
      "image/png": "[encoded data removed]",
      "text/plain": [
       "<Figure size 1008x576 with 1 Axes>"
      ]
     },
     "metadata": {
      "needs_background": "light"
     },
     "output_type": "display_data"
    }
   ],
   "source": [
    "plt.figure(figsize=(14, 8))\n",
    "sns.barplot(data=lebanon_selected, x = 'year', y = 'price', hue = 'commodity').set_title('Average commodity prices per year for selected goods')"
   ]
  },
  {
   "cell_type": "markdown",
   "id": "620c1091",
   "metadata": {},
   "source": [
    "We take a closer look at one of the commodity price evolution throughout 2021: **sugar**. It looks like sugar price has increased once on June 2021 and then reached another threshold on October 2021."
   ]
  },
  {
   "cell_type": "code",
   "execution_count": 47,
   "id": "7ab76b91",
   "metadata": {},
   "outputs": [
    {
     "data": {
      "image/png": "[encoded data removed]",
      "text/plain": [
       "<Figure size 1008x432 with 1 Axes>"
      ]
     },
     "metadata": {
      "needs_background": "light"
     },
     "output_type": "display_data"
    }
   ],
   "source": [
    "# barplot of monthly sugar price in 2021 to find out when the prices started to went up\n",
    "# matplotlib\n",
    "\n",
    "plt.figure(figsize=(14, 6))\n",
    "\n",
    "plt.bar(sugar[sugar['year'] == 2020]['month'], sugar[sugar['year'] == 2020]['price'], width=0.25)\n",
    "\n",
    "plt.xlabel('Months')\n",
    "plt.ylabel('Price')\n",
    "plt.title('Monthly Sugar Prices in 2021')\n",
    "plt.xticks(np.arange(1, 13))\n",
    "\n",
    "plt.show()\n"
   ]
  },
  {
   "cell_type": "code",
   "execution_count": 48,
   "id": "025c3da4",
   "metadata": {},
   "outputs": [
    {
     "data": {
      "text/plain": [
       "<AxesSubplot:xlabel='month', ylabel='price'>"
      ]
     },
     "execution_count": 48,
     "metadata": {},
     "output_type": "execute_result"
    },
    {
     "data": {
      "image/png": "[encoded data removed]",
      "text/plain": [
       "<Figure size 432x288 with 1 Axes>"
      ]
     },
     "metadata": {
      "needs_background": "light"
     },
     "output_type": "display_data"
    }
   ],
   "source": [
    "# barplot of monthly sugar price in 2021 to find out when the prices started to went up with seaborn\n",
    "\n",
    "sns.barplot(x = sugar[sugar['year'] == 2020]['month'], y = sugar[sugar['year'] == 2020]['price'])"
   ]
  },
  {
   "cell_type": "markdown",
   "id": "973bb1af",
   "metadata": {},
   "source": [
    "We take a closer look at another of the commodity price evolution throughout 2021: **sunflower oil**. It looks like sunflower oil price has increased gradually between February 2021 and May 2021. There is no further data in the data set for 2021."
   ]
  },
  {
   "cell_type": "code",
   "execution_count": 49,
   "id": "5d10097d",
   "metadata": {},
   "outputs": [
    {
     "data": {
      "image/png": "[encoded data removed]",
      "text/plain": [
       "<Figure size 1008x432 with 1 Axes>"
      ]
     },
     "metadata": {
      "needs_background": "light"
     },
     "output_type": "display_data"
    }
   ],
   "source": [
    "# barplot of monthly sunflower oil price in 2021 to find out when the prices started to went up\n",
    "\n",
    "plt.figure(figsize=(14, 6))\n",
    "\n",
    "plt.bar(oil_s[oil_s['year'] == 2021]['month'], oil_s[oil_s['year'] == 2021]['price'], width=0.25)\n",
    "\n",
    "\n",
    "plt.xticks(np.arange(1, 13))\n",
    "\n",
    "plt.show()"
   ]
  },
  {
   "cell_type": "code",
   "execution_count": 50,
   "id": "a2d85a49",
   "metadata": {},
   "outputs": [
    {
     "data": {
      "text/plain": [
       "<AxesSubplot:xlabel='month', ylabel='price'>"
      ]
     },
     "execution_count": 50,
     "metadata": {},
     "output_type": "execute_result"
    },
    {
     "data": {
      "image/png": "[encoded data removed]",
      "text/plain": [
       "<Figure size 432x288 with 1 Axes>"
      ]
     },
     "metadata": {
      "needs_background": "light"
     },
     "output_type": "display_data"
    }
   ],
   "source": [
    "# barplot of monthly sunflower oil price in 2021 to find out when the prices started to went up with seaborn\n",
    "\n",
    "sns.barplot(x = oil_s[oil_s['year'] == 2021]['month'], y = oil_s[oil_s['year'] == 2021]['price'])"
   ]
  },
  {
   "cell_type": "markdown",
   "id": "410f84d9",
   "metadata": {},
   "source": [
    "Statistical distribution of food prices of selected goods gives us a general understanding of how data for each commodity is distributed. We can see the central tendency and outliers of the data. For this task, we will use boxplot function of matplotlib and seaborn libraries to get multiple boxplots of the values. To do this plotting, we will first create a new variable called \"basket\", which would keep the price data of the selected commodities. Then visualize them using the relevant libraries."
   ]
  },
  {
   "cell_type": "code",
   "execution_count": 51,
   "id": "278a16f9",
   "metadata": {},
   "outputs": [],
   "source": [
    "# creating a new variable by selection\n",
    "\n",
    "basket = [fuel['price'], meat_b['price'], bread['price'], egg['price'], sugar['price'], fish['price'], salt['price']]"
   ]
  },
  {
   "cell_type": "code",
   "execution_count": 52,
   "id": "2559c151",
   "metadata": {},
   "outputs": [
    {
     "data": {
      "image/png": "[encoded data removed]",
      "text/plain": [
       "<Figure size 1008x648 with 1 Axes>"
      ]
     },
     "metadata": {
      "needs_background": "light"
     },
     "output_type": "display_data"
    }
   ],
   "source": [
    "# boxplot with matplotlib for the selected values\n",
    "\n",
    "labels = ['Fuel', 'Meat', 'Bread', 'Eggs', 'Sugar', 'Fish', 'Salt'] # creating labels for x axis\n",
    "\n",
    "fig = plt.figure(figsize =(14, 9))\n",
    "ax = fig.add_axes([0, 0, 1, 1], ylabel='Lebanese Pound (LBP)', xlabel='Commodity', title='Boxplots for selected commodities (2017 - 2021)')\n",
    "bp = ax.boxplot(basket)\n",
    "ax.set_xticklabels(labels)\n",
    "plt.show()"
   ]
  },
  {
   "cell_type": "code",
   "execution_count": 53,
   "id": "08c3e2f7",
   "metadata": {
    "scrolled": true
   },
   "outputs": [
    {
     "data": {
      "text/plain": [
       "<AxesSubplot:xlabel='commodity', ylabel='price'>"
      ]
     },
     "execution_count": 53,
     "metadata": {},
     "output_type": "execute_result"
    },
    {
     "data": {
      "image/png": "[encoded data removed]",
      "text/plain": [
       "<Figure size 1008x5760 with 1 Axes>"
      ]
     },
     "metadata": {
      "needs_background": "light"
     },
     "output_type": "display_data"
    }
   ],
   "source": [
    "# boxplots with seaborn\n",
    "\n",
    "plt.figure(figsize=(14, 80))\n",
    "sns.boxplot(x = lebanon_selected['commodity'], y = lebanon_selected['price'])"
   ]
  },
  {
   "cell_type": "markdown",
   "id": "ca3dd75e",
   "metadata": {},
   "source": [
    "Egg, sunflower oil and sugar were the commodities whose prices increased the most. The boxplots show us these two good have also plenty of outlier values. In other words, the outliers must be the main reason in the jumps in their prices. Other than them, the other goods also have many outlier values, which is why the food prices are that unstable.\n",
    "\n",
    "One interesting finding in the boxplots is that the median values for each commodity is closer to first quartile. This supports the idea that price increases are led by the outlier values, which might have become abundant after the year 2019. Thus, Lebanon had more stable food prices until 2019."
   ]
  },
  {
   "cell_type": "markdown",
   "id": "c00fdfc6",
   "metadata": {},
   "source": [
    "We will now look at a different aspect of food prices which is food price-city relationship. We want to findout which are the most expensive and cheapest cities in terms of food prices. To do that, we will first create city_price variable, which stores the average food prices per cities usign groupby function and sorting, then visualize it using bar plot."
   ]
  },
  {
   "cell_type": "code",
   "execution_count": 54,
   "id": "f7db12d9",
   "metadata": {},
   "outputs": [
    {
     "data": {
      "text/plain": [
       "city\n",
       "Jezzine           8097.450273\n",
       "Bechare           8034.878647\n",
       "Bint Jbeil        7406.115488\n",
       "Marjayoun         7190.427653\n",
       "Hasbaya           7179.540689\n",
       "Hermel            7082.186036\n",
       "Jbeil             7078.771916\n",
       "Zgharta           7038.998124\n",
       "Nabatiyeh         6811.529408\n",
       "Zahle             6758.260165\n",
       "Keserwan          6676.848724\n",
       "West Beqaa        6625.282171\n",
       "Baabda            6594.198925\n",
       "Sour              6577.121434\n",
       "El Metn           6468.824799\n",
       "Batroun           6453.839017\n",
       "Beirut            6450.079735\n",
       "Tripoli           6429.956237\n",
       "Koura             6424.592404\n",
       "Aley              6421.347587\n",
       "Minieh-Dannieh    6365.682152\n",
       "Saida             6356.475426\n",
       "Chouf             6337.294972\n",
       "Rashaya           6309.190807\n",
       "Akkar             6086.595068\n",
       "Baalbeck          5969.737218\n",
       "Name: price, dtype: float64"
      ]
     },
     "execution_count": 54,
     "metadata": {},
     "output_type": "execute_result"
    }
   ],
   "source": [
    "# which cities are the most expensive and the cheapest to live\n",
    "\n",
    "# averege food prices per city\n",
    "city_price = lebanon.groupby(['city'])['price'].mean()\n",
    "\n",
    "# sorting descending\n",
    "city_price.sort_values(ascending=False)"
   ]
  },
  {
   "cell_type": "code",
   "execution_count": 55,
   "id": "e89a61a0",
   "metadata": {},
   "outputs": [
    {
     "data": {
      "image/png": "[encoded data removed]",
      "text/plain": [
       "<Figure size 1008x432 with 1 Axes>"
      ]
     },
     "metadata": {
      "needs_background": "light"
     },
     "output_type": "display_data"
    }
   ],
   "source": [
    "# visualization of average food prices per city\n",
    "# matplotlib\n",
    "\n",
    "plt.figure(figsize=(14, 6))\n",
    "city_price.plot.bar() # barplot\n",
    "\n",
    "# adding labels\n",
    "plt.xlabel('Cities')\n",
    "plt.ylabel('Average Price')\n",
    "plt.title('Average Food Prices in Cities')\n",
    "\n",
    "plt.show()"
   ]
  },
  {
   "cell_type": "markdown",
   "id": "2c9aa54b",
   "metadata": {},
   "source": [
    "Since matplotlib and seaborn work in different inputs, we need to rearrange the city_price variable. We will turn it into a dataframe using reset_index() method and save it into a new variable, then use it in seaborn function for bar plot."
   ]
  },
  {
   "cell_type": "code",
   "execution_count": 56,
   "id": "8e91177b",
   "metadata": {},
   "outputs": [
    {
     "data": {
      "text/html": [
       "<div>\n",
       "<style scoped>\n",
       "    .dataframe tbody tr th:only-of-type {\n",
       "        vertical-align: middle;\n",
       "    }\n",
       "\n",
       "    .dataframe tbody tr th {\n",
       "        vertical-align: top;\n",
       "    }\n",
       "\n",
       "    .dataframe thead th {\n",
       "        text-align: right;\n",
       "    }\n",
       "</style>\n",
       "<table border=\"1\" class=\"dataframe\">\n",
       "  <thead>\n",
       "    <tr style=\"text-align: right;\">\n",
       "      <th></th>\n",
       "      <th>city</th>\n",
       "      <th>price</th>\n",
       "    </tr>\n",
       "  </thead>\n",
       "  <tbody>\n",
       "    <tr>\n",
       "      <th>0</th>\n",
       "      <td>Akkar</td>\n",
       "      <td>6086.595068</td>\n",
       "    </tr>\n",
       "    <tr>\n",
       "      <th>1</th>\n",
       "      <td>Aley</td>\n",
       "      <td>6421.347587</td>\n",
       "    </tr>\n",
       "    <tr>\n",
       "      <th>2</th>\n",
       "      <td>Baabda</td>\n",
       "      <td>6594.198925</td>\n",
       "    </tr>\n",
       "    <tr>\n",
       "      <th>3</th>\n",
       "      <td>Baalbeck</td>\n",
       "      <td>5969.737218</td>\n",
       "    </tr>\n",
       "    <tr>\n",
       "      <th>4</th>\n",
       "      <td>Batroun</td>\n",
       "      <td>6453.839017</td>\n",
       "    </tr>\n",
       "    <tr>\n",
       "      <th>5</th>\n",
       "      <td>Bechare</td>\n",
       "      <td>8034.878647</td>\n",
       "    </tr>\n",
       "    <tr>\n",
       "      <th>6</th>\n",
       "      <td>Beirut</td>\n",
       "      <td>6450.079735</td>\n",
       "    </tr>\n",
       "    <tr>\n",
       "      <th>7</th>\n",
       "      <td>Bint Jbeil</td>\n",
       "      <td>7406.115488</td>\n",
       "    </tr>\n",
       "    <tr>\n",
       "      <th>8</th>\n",
       "      <td>Chouf</td>\n",
       "      <td>6337.294972</td>\n",
       "    </tr>\n",
       "    <tr>\n",
       "      <th>9</th>\n",
       "      <td>El Metn</td>\n",
       "      <td>6468.824799</td>\n",
       "    </tr>\n",
       "    <tr>\n",
       "      <th>10</th>\n",
       "      <td>Hasbaya</td>\n",
       "      <td>7179.540689</td>\n",
       "    </tr>\n",
       "    <tr>\n",
       "      <th>11</th>\n",
       "      <td>Hermel</td>\n",
       "      <td>7082.186036</td>\n",
       "    </tr>\n",
       "    <tr>\n",
       "      <th>12</th>\n",
       "      <td>Jbeil</td>\n",
       "      <td>7078.771916</td>\n",
       "    </tr>\n",
       "    <tr>\n",
       "      <th>13</th>\n",
       "      <td>Jezzine</td>\n",
       "      <td>8097.450273</td>\n",
       "    </tr>\n",
       "    <tr>\n",
       "      <th>14</th>\n",
       "      <td>Keserwan</td>\n",
       "      <td>6676.848724</td>\n",
       "    </tr>\n",
       "    <tr>\n",
       "      <th>15</th>\n",
       "      <td>Koura</td>\n",
       "      <td>6424.592404</td>\n",
       "    </tr>\n",
       "    <tr>\n",
       "      <th>16</th>\n",
       "      <td>Marjayoun</td>\n",
       "      <td>7190.427653</td>\n",
       "    </tr>\n",
       "    <tr>\n",
       "      <th>17</th>\n",
       "      <td>Minieh-Dannieh</td>\n",
       "      <td>6365.682152</td>\n",
       "    </tr>\n",
       "    <tr>\n",
       "      <th>18</th>\n",
       "      <td>Nabatiyeh</td>\n",
       "      <td>6811.529408</td>\n",
       "    </tr>\n",
       "    <tr>\n",
       "      <th>19</th>\n",
       "      <td>Rashaya</td>\n",
       "      <td>6309.190807</td>\n",
       "    </tr>\n",
       "    <tr>\n",
       "      <th>20</th>\n",
       "      <td>Saida</td>\n",
       "      <td>6356.475426</td>\n",
       "    </tr>\n",
       "    <tr>\n",
       "      <th>21</th>\n",
       "      <td>Sour</td>\n",
       "      <td>6577.121434</td>\n",
       "    </tr>\n",
       "    <tr>\n",
       "      <th>22</th>\n",
       "      <td>Tripoli</td>\n",
       "      <td>6429.956237</td>\n",
       "    </tr>\n",
       "    <tr>\n",
       "      <th>23</th>\n",
       "      <td>West Beqaa</td>\n",
       "      <td>6625.282171</td>\n",
       "    </tr>\n",
       "    <tr>\n",
       "      <th>24</th>\n",
       "      <td>Zahle</td>\n",
       "      <td>6758.260165</td>\n",
       "    </tr>\n",
       "    <tr>\n",
       "      <th>25</th>\n",
       "      <td>Zgharta</td>\n",
       "      <td>7038.998124</td>\n",
       "    </tr>\n",
       "  </tbody>\n",
       "</table>\n",
       "</div>"
      ],
      "text/plain": [
       "              city        price\n",
       "0            Akkar  6086.595068\n",
       "1             Aley  6421.347587\n",
       "2           Baabda  6594.198925\n",
       "3         Baalbeck  5969.737218\n",
       "4          Batroun  6453.839017\n",
       "5          Bechare  8034.878647\n",
       "6           Beirut  6450.079735\n",
       "7       Bint Jbeil  7406.115488\n",
       "8            Chouf  6337.294972\n",
       "9          El Metn  6468.824799\n",
       "10         Hasbaya  7179.540689\n",
       "11          Hermel  7082.186036\n",
       "12           Jbeil  7078.771916\n",
       "13         Jezzine  8097.450273\n",
       "14        Keserwan  6676.848724\n",
       "15           Koura  6424.592404\n",
       "16       Marjayoun  7190.427653\n",
       "17  Minieh-Dannieh  6365.682152\n",
       "18       Nabatiyeh  6811.529408\n",
       "19         Rashaya  6309.190807\n",
       "20           Saida  6356.475426\n",
       "21            Sour  6577.121434\n",
       "22         Tripoli  6429.956237\n",
       "23      West Beqaa  6625.282171\n",
       "24           Zahle  6758.260165\n",
       "25         Zgharta  7038.998124"
      ]
     },
     "execution_count": 56,
     "metadata": {},
     "output_type": "execute_result"
    }
   ],
   "source": [
    "# reset index\n",
    "city_price1 = city_price.reset_index()\n",
    "\n",
    "# checking if it works\n",
    "city_price1"
   ]
  },
  {
   "cell_type": "code",
   "execution_count": 57,
   "id": "44444d97",
   "metadata": {
    "scrolled": true
   },
   "outputs": [
    {
     "data": {
      "text/plain": [
       "<AxesSubplot:xlabel='city', ylabel='price'>"
      ]
     },
     "execution_count": 57,
     "metadata": {},
     "output_type": "execute_result"
    },
    {
     "data": {
      "image/png": "[encoded data removed]",
      "text/plain": [
       "<Figure size 1656x648 with 1 Axes>"
      ]
     },
     "metadata": {
      "needs_background": "light"
     },
     "output_type": "display_data"
    }
   ],
   "source": [
    "# bar plot with seaborn\n",
    "\n",
    "plt.figure(figsize=(23, 9))\n",
    "\n",
    "sns.barplot(data = city_price1, x = 'city', y = 'price')"
   ]
  },
  {
   "cell_type": "markdown",
   "id": "5052edcb",
   "metadata": {},
   "source": [
    "As the plots shows, the cheapest city is **Baalbeck**, while the most expensive cities are **Jezzine and Bechare**. Baalbeck with ~6000 LBP in average is about 25% cheaper in terms of food prices than Jezzine and Bechare with ~8000 LBP in average, which is a serious difference."
   ]
  },
  {
   "cell_type": "markdown",
   "id": "becd863d",
   "metadata": {},
   "source": [
    "Finally, we want to look if there is any **correlation between the prices of fuel and sunflower oil**. The reason why we choose these two are is twofold: first, oil is the commodity which can influence price movements of other commodities. Second, sunflower oil is the commodity where we see the most obvious price increase."
   ]
  },
  {
   "cell_type": "code",
   "execution_count": 58,
   "id": "c13c0292",
   "metadata": {},
   "outputs": [
    {
     "data": {
      "text/plain": [
       "<matplotlib.collections.PathCollection at 0x1c140c65cd0>"
      ]
     },
     "execution_count": 58,
     "metadata": {},
     "output_type": "execute_result"
    },
    {
     "data": {
      "image/png": "[encoded data removed]",
      "text/plain": [
       "<Figure size 1008x504 with 1 Axes>"
      ]
     },
     "metadata": {
      "needs_background": "light"
     },
     "output_type": "display_data"
    }
   ],
   "source": [
    "# does fuel prices affect the prices of sunflower oil\n",
    "# matplotlib\n",
    "\n",
    "plt.figure(figsize=(14, 7))\n",
    "\n",
    "#since the lengths of prices are not equal, we will take fuel price till 930th value, which is the maximum for sunflower oil price.\n",
    "plt.scatter(fuel['price'][:930], oil_s['price'])"
   ]
  },
  {
   "cell_type": "markdown",
   "id": "db586728",
   "metadata": {},
   "source": [
    "We do not see a clear association between fuel prices and sunflower oil prices. The price increase in sunflower oil must be originated from some external factors such as drought in 2020 that impacted sunflower agriculture. Also, it is important to have in mind that Lebanon is a country that heavily relies on other countries for importation for many commodities. Thus, externalities on the global sunflower market can impact prices in Lebanon."
   ]
  },
  {
   "cell_type": "markdown",
   "id": "746a48b5",
   "metadata": {},
   "source": [
    "## Step 4: Inference"
   ]
  },
  {
   "cell_type": "markdown",
   "id": "5f693b12",
   "metadata": {},
   "source": [
    "Lebanon relies heavily on gasoline  and agricultural goods including wheat, sugar, bulgur, white beans, black lentil, salt, sunflower oil, vegetable ghee, tea, tomato paste, and chickpeas. From our exploratory data analysis on the most basic commodities demonstrates the prices of many essential consumer products have been increasing significantly, more than 1000% in fuel and average 400% in agricultural products of its initial price.<br>\n",
    "More specifically, our analysis provides some insights to the following questions issues regarding food prices:"
   ]
  },
  {
   "cell_type": "code",
   "execution_count": 59,
   "id": "4184a62e",
   "metadata": {},
   "outputs": [
    {
     "data": {
      "text/plain": [
       "Text(0.5, 1.0, 'Average commodity prices for selected goods over years')"
      ]
     },
     "execution_count": 59,
     "metadata": {},
     "output_type": "execute_result"
    },
    {
     "data": {
      "image/png": "[encoded data removed]",
      "text/plain": [
       "<Figure size 720x360 with 1 Axes>"
      ]
     },
     "metadata": {
      "needs_background": "light"
     },
     "output_type": "display_data"
    }
   ],
   "source": [
    "plt.figure(figsize=(10, 5))\n",
    "sns.lineplot(data=lebanon_selected, x='year', y='price', hue='commodity')\n",
    "\n",
    "plt.title('Average commodity prices for selected goods over years')"
   ]
  },
  {
   "cell_type": "markdown",
   "id": "a69d793e",
   "metadata": {},
   "source": [
    "**Yearly Change:** Food prices start to increase especially from the mid 2020. Particularly, there are dramatic increases for sugar, sunflower oil and fuel prices. Although we initially thought that the increase in fuel prices led to this spike, we did not see an association between the prices of these products. Therefore, the main reason for the yearly spike must be the disruption of the supply-demand balance caused by the pandemic."
   ]
  },
  {
   "cell_type": "code",
   "execution_count": 60,
   "id": "f3fc2f75",
   "metadata": {},
   "outputs": [
    {
     "data": {
      "text/plain": [
       "Text(0.5, 1.0, 'Bread prices range')"
      ]
     },
     "execution_count": 60,
     "metadata": {},
     "output_type": "execute_result"
    },
    {
     "data": {
      "image/png": "[encoded data removed]",
      "text/plain": [
       "<Figure size 576x288 with 1 Axes>"
      ]
     },
     "metadata": {
      "needs_background": "light"
     },
     "output_type": "display_data"
    }
   ],
   "source": [
    "plt.figure(figsize=(8, 4))\n",
    "plt.hist(bread['price'])\n",
    "\n",
    "plt.title('Bread prices range')"
   ]
  },
  {
   "cell_type": "markdown",
   "id": "7e57f2d4",
   "metadata": {},
   "source": [
    "**Most steady and unsteady commodity:** While bread and salt were the products with the most stable prices, sunflower oil, sugar and egg are the products whose price increased the most. Especially the prices of sunflower oil has increased hugely compared to others. Apart from the pandemic, we think that the reason for this is the negative impact of the seasonal drought on sunflower agriculture that took place in 2020-2021. However, although these products are the most stable in price, they also show significant changes sometimes.<br>"
   ]
  },
  {
   "cell_type": "code",
   "execution_count": 61,
   "id": "c3c434cc",
   "metadata": {},
   "outputs": [
    {
     "data": {
      "text/plain": [
       "<AxesSubplot:xlabel='city', ylabel='price'>"
      ]
     },
     "execution_count": 61,
     "metadata": {},
     "output_type": "execute_result"
    },
    {
     "data": {
      "image/png": "[encoded data removed]",
      "text/plain": [
       "<Figure size 1656x432 with 1 Axes>"
      ]
     },
     "metadata": {
      "needs_background": "light"
     },
     "output_type": "display_data"
    }
   ],
   "source": [
    "# cities in food prices\n",
    "plt.figure(figsize=(23, 6))\n",
    "\n",
    "sns.barplot(data = city_price1, x = 'city', y = 'price')"
   ]
  },
  {
   "cell_type": "markdown",
   "id": "aeba8fdd",
   "metadata": {},
   "source": [
    "**The Cheapes and the most expensive cities:** In terms of average food prices, the cheapest city is Baalbeck, while the most expensive cities are Jezzine and Bechare. Baalbeck is about 25% cheaper in terms of food prices than Jezzine and Bechare."
   ]
  },
  {
   "cell_type": "code",
   "execution_count": 62,
   "id": "3d9029aa",
   "metadata": {},
   "outputs": [
    {
     "data": {
      "text/plain": [
       "<AxesSubplot:xlabel='month', ylabel='price'>"
      ]
     },
     "execution_count": 62,
     "metadata": {},
     "output_type": "execute_result"
    },
    {
     "data": {
      "image/png": "[encoded data removed]",
      "text/plain": [
       "<Figure size 432x288 with 1 Axes>"
      ]
     },
     "metadata": {
      "needs_background": "light"
     },
     "output_type": "display_data"
    }
   ],
   "source": [
    "# monthly average prices\n",
    "sns.barplot(data = monthly_change1, x = 'month', y = 'price')"
   ]
  },
  {
   "cell_type": "markdown",
   "id": "94bcdd10",
   "metadata": {},
   "source": [
    "**Monthly price changes:** Average food price on monthly basis peaks in April. Prices are high in May as well. Additionally, prices are higher in autumn and winter comparing spring and summer. However, prices, which started to decline rapidly in June, remained stable until December."
   ]
  },
  {
   "cell_type": "markdown",
   "id": "9e50f910",
   "metadata": {},
   "source": [
    "## Step 5: Conclusion"
   ]
  },
  {
   "cell_type": "markdown",
   "id": "4570c2fe",
   "metadata": {},
   "source": [
    "Lebanon faces one of the top three most severe economic collapses while staple food and fuel prices continue to rise. According to our analysis from the Lebanon dataset, the result presents that the typical prices of essential commodity products has changed brutally over the time period. <br> Rising prices is a global tendancy but some commodities are more impacted than others (fuel, sunflower oil, sugar). Also, some cities from the North and South of Lebanon (Jezzine, Bechare, Bint Jbeil) seem to have higher average prices than in the capital city: Beirut. <br> The seasonal factor and geographic location have actually very little correlation in the price changes crisis. While  the Covid-19 Pandemic probably hold a responsibility in this phenomenon, systemic corruption is likely to be a catalyst for the price increases in Lebanon. All these phenomena have resulted in population facing food shortage.\n"
   ]
  },
  {
   "cell_type": "markdown",
   "id": "86216023",
   "metadata": {},
   "source": [
    "## _References_"
   ]
  },
  {
   "cell_type": "markdown",
   "id": "672b7bda",
   "metadata": {},
   "source": [
    "1. Barua, Akrur. Deloitte Insights.https://www2.deloitte.com/xe/en/insights/economy/global-food-prices-inflation.html.May 31, 2022\n",
    "2. Rahman, Fareed.https://www.thenationalnews.com/business/economy/2022/08/04/lebanon-is-the-worlds-worst-hit-by-food-inflation-crisis-world-bank-says/.August 04, 2022\n",
    "3. Rans, Michael.the dataset Global Food Prices Database (WFP).https://data.humdata.org/dataset/wfp-food-prices. August 22, 2021"
   ]
  }
 ],
 "metadata": {
  "kernelspec": {
   "display_name": "Python 3 (ipykernel)",
   "language": "python",
   "name": "python3"
  },
  "language_info": {
   "codemirror_mode": {
    "name": "ipython",
    "version": 3
   },
   "file_extension": ".py",
   "mimetype": "text/x-python",
   "name": "python",
   "nbconvert_exporter": "python",
   "pygments_lexer": "ipython3",
   "version": "3.9.12"
  }
 },
 "nbformat": 4,
 "nbformat_minor": 5
}
